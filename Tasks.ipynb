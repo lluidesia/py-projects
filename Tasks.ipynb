{
 "cells": [
  {
   "cell_type": "code",
   "execution_count": 5,
   "metadata": {},
   "outputs": [
    {
     "name": "stdout",
     "output_type": "stream",
     "text": [
      "H\n",
      "w\n",
      "H\n",
      "w\n",
      "H\n",
      "w\n",
      "s\n",
      "w\n",
      "H\n",
      "w\n",
      "H\n",
      "w\n"
     ]
    }
   ],
   "source": [
    "# код, який виводить першу літеру кожного слова в реченні\n",
    "\n",
    "s = 'Hello world Hello world Hello world salut world Hello world Hello world'\n",
    "\n",
    "\n",
    "for word in s.split():\n",
    "    print(word[0])\n"
   ]
  },
  {
   "cell_type": "code",
   "execution_count": 18,
   "metadata": {},
   "outputs": [
    {
     "name": "stdout",
     "output_type": "stream",
     "text": [
      "salut\n",
      "salut\n"
     ]
    }
   ],
   "source": [
    "# код, який виведе слова на літеру s\n",
    "\n",
    "s = 'Hello world Hello world Hello world  salut Salut world Hello world Hello world'\n",
    "\n",
    "for word in s.split():\n",
    "    if word[0]=='s' or word[0]=='S':\n",
    "        print(word)\n",
    "        "
   ]
  },
  {
   "cell_type": "code",
   "execution_count": 14,
   "metadata": {},
   "outputs": [
    {
     "name": "stdout",
     "output_type": "stream",
     "text": [
      "salut\n",
      "Salut\n"
     ]
    }
   ],
   "source": [
    "# код, який виведе слова, в яких є s\n",
    "for word in s.split():\n",
    "    if 's' in word or 'S' in word:\n",
    "        print(word)"
   ]
  },
  {
   "cell_type": "code",
   "execution_count": 23,
   "metadata": {},
   "outputs": [
    {
     "name": "stdout",
     "output_type": "stream",
     "text": [
      "salut\n",
      "salut\n"
     ]
    }
   ],
   "source": [
    "# другий варіант\n",
    "s = 'Hello world Hello world Hello world  salut Salut world Hello world Hello world'\n",
    "#s = s.lower() or :\n",
    "for word in s.lower().split():\n",
    "    if word[0]=='s':\n",
    "        print(word)\n"
   ]
  },
  {
   "cell_type": "code",
   "execution_count": 30,
   "metadata": {},
   "outputs": [
    {
     "name": "stdout",
     "output_type": "stream",
     "text": [
      "sos\n",
      "ios\n",
      "salut\n",
      "salut\n"
     ]
    }
   ],
   "source": [
    "for word in s.lower().split():\n",
    "    if 's' in word:\n",
    "        print(word)"
   ]
  },
  {
   "cell_type": "code",
   "execution_count": 28,
   "metadata": {},
   "outputs": [
    {
     "name": "stdout",
     "output_type": "stream",
     "text": [
      "SoS\n",
      "salut\n",
      "Salut\n"
     ]
    }
   ],
   "source": [
    "s = 'Hello world Hello world Hello world SoS ios salut Salut world Hello world Hello world'\n",
    "\n",
    "for word in s.split():\n",
    "    if word[0].lower()=='s':\n",
    "        print(word)"
   ]
  },
  {
   "cell_type": "code",
   "execution_count": 29,
   "metadata": {},
   "outputs": [
    {
     "name": "stdout",
     "output_type": "stream",
     "text": [
      "SoS\n",
      "ios\n",
      "salut\n",
      "Salut\n"
     ]
    }
   ],
   "source": [
    "for word in s.split():\n",
    "    if 's' in word.lower():\n",
    "        print(word)"
   ]
  },
  {
   "cell_type": "code",
   "execution_count": null,
   "metadata": {},
   "outputs": [],
   "source": []
  },
  {
   "cell_type": "code",
   "execution_count": null,
   "metadata": {},
   "outputs": [],
   "source": []
  },
  {
   "cell_type": "code",
   "execution_count": null,
   "metadata": {},
   "outputs": [],
   "source": []
  },
  {
   "cell_type": "code",
   "execution_count": null,
   "metadata": {},
   "outputs": [],
   "source": []
  },
  {
   "cell_type": "code",
   "execution_count": null,
   "metadata": {},
   "outputs": [],
   "source": []
  },
  {
   "cell_type": "code",
   "execution_count": null,
   "metadata": {},
   "outputs": [],
   "source": []
  },
  {
   "cell_type": "code",
   "execution_count": null,
   "metadata": {},
   "outputs": [],
   "source": []
  }
 ],
 "metadata": {
  "kernelspec": {
   "display_name": "Python 3",
   "language": "python",
   "name": "python3"
  },
  "language_info": {
   "codemirror_mode": {
    "name": "ipython",
    "version": 3
   },
   "file_extension": ".py",
   "mimetype": "text/x-python",
   "name": "python",
   "nbconvert_exporter": "python",
   "pygments_lexer": "ipython3",
   "version": "3.5.2"
  }
 },
 "nbformat": 4,
 "nbformat_minor": 2
}
