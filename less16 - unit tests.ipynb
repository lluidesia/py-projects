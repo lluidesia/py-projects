{
 "cells": [
  {
   "cell_type": "code",
   "execution_count": 1,
   "metadata": {},
   "outputs": [
    {
     "ename": "NameError",
     "evalue": "name 'name' is not defined",
     "output_type": "error",
     "traceback": [
      "\u001b[0;31m---------------------------------------------------------------------------\u001b[0m",
      "\u001b[0;31mNameError\u001b[0m                                 Traceback (most recent call last)",
      "\u001b[0;32m<ipython-input-1-b5d3852131bb>\u001b[0m in \u001b[0;36m<module>\u001b[0;34m()\u001b[0m\n\u001b[1;32m      8\u001b[0m \u001b[0;34m\u001b[0m\u001b[0m\n\u001b[1;32m      9\u001b[0m \u001b[0;34m\u001b[0m\u001b[0m\n\u001b[0;32m---> 10\u001b[0;31m \u001b[0;32mif\u001b[0m \u001b[0mname\u001b[0m \u001b[0;34m==\u001b[0m \u001b[0;34m'main'\u001b[0m\u001b[0;34m:\u001b[0m\u001b[0;34m\u001b[0m\u001b[0m\n\u001b[0m\u001b[1;32m     11\u001b[0m     \u001b[0mlog\u001b[0m \u001b[0;34m=\u001b[0m \u001b[0mlogging\u001b[0m\u001b[0;34m.\u001b[0m\u001b[0mgetLogger\u001b[0m\u001b[0;34m(\u001b[0m\u001b[0;34m)\u001b[0m\u001b[0;34m\u001b[0m\u001b[0m\n\u001b[1;32m     12\u001b[0m     \u001b[0mlog\u001b[0m\u001b[0;34m.\u001b[0m\u001b[0mlevel\u001b[0m \u001b[0;34m=\u001b[0m \u001b[0mlogging\u001b[0m\u001b[0;34m.\u001b[0m\u001b[0mDEBUG\u001b[0m\u001b[0;34m\u001b[0m\u001b[0m\n",
      "\u001b[0;31mNameError\u001b[0m: name 'name' is not defined"
     ]
    }
   ],
   "source": [
    "import unittest\n",
    "import requests\n",
    "import re\n",
    "import responses\n",
    "import json\n",
    "import logging\n",
    "import sys\n",
    "\n",
    "\n",
    "if name == 'main':\n",
    "    log = logging.getLogger()\n",
    "    log.level = logging.DEBUG\n",
    "    log.addHandler(logging.StreamHandler(sys.stderr))\n",
    "else:\n",
    "    log = logging.getLogger(name)\n",
    "\n",
    "log.info('PASS')\n",
    "log.debug('Something about %r in %s', log, name)\n",
    "    \n",
    "url = 'https://jsonplaceholder.typicode.com/'\n",
    "    \n",
    "class JsonPlaceholderTests(unittest.TestCase):\n",
    "    def test_request_get(self):\n",
    "        response = requests.get(url)\n",
    "        self.assertEqual(response.status_code, 200)\n",
    "        logging.info('[PASS]')\n",
    "        \n",
    "    def test_get_postcomments_negative(self):\n",
    "        response = requests.get(url + 'comments/-40000')\n",
    "        self.assertEqual(response.status_code, 404)\n",
    "        logging.info('[PASS]')\n",
    "\n",
    "if name=='main':\n",
    "    unittest.main()\n",
    "    "
   ]
  },
  {
   "cell_type": "code",
   "execution_count": null,
   "metadata": {},
   "outputs": [],
   "source": []
  }
 ],
 "metadata": {
  "kernelspec": {
   "display_name": "Python 3",
   "language": "python",
   "name": "python3"
  },
  "language_info": {
   "codemirror_mode": {
    "name": "ipython",
    "version": 3
   },
   "file_extension": ".py",
   "mimetype": "text/x-python",
   "name": "python",
   "nbconvert_exporter": "python",
   "pygments_lexer": "ipython3",
   "version": "3.6.5"
  }
 },
 "nbformat": 4,
 "nbformat_minor": 2
}
