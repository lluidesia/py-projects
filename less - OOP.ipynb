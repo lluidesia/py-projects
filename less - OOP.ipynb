{
 "cells": [
  {
   "cell_type": "code",
   "execution_count": 2,
   "metadata": {},
   "outputs": [
    {
     "name": "stdout",
     "output_type": "stream",
     "text": [
      "<class '__main__.Sample'>\n"
     ]
    }
   ],
   "source": [
    "class Sample(object):\n",
    "    pass\n",
    "\n",
    "x = Sample()\n",
    "\n",
    "print(type(x))"
   ]
  },
  {
   "cell_type": "code",
   "execution_count": 3,
   "metadata": {},
   "outputs": [
    {
     "data": {
      "text/plain": [
       "'\\n- назва класа з великої літери\\n\\n'"
      ]
     },
     "execution_count": 3,
     "metadata": {},
     "output_type": "execute_result"
    }
   ],
   "source": [
    "'''\n",
    "- назва класа з великої літери\n",
    "\n",
    "'''"
   ]
  },
  {
   "cell_type": "code",
   "execution_count": 14,
   "metadata": {},
   "outputs": [
    {
     "name": "stdout",
     "output_type": "stream",
     "text": [
      "Labrador\n",
      "Jack\n",
      "mammal\n"
     ]
    }
   ],
   "source": [
    "class Dog(object):\n",
    "    \n",
    "    species = 'mammal'\n",
    "    \n",
    "    def __init__(self, breed, name):\n",
    "        self.breed = breed\n",
    "        self.name = name\n",
    "        \n",
    "        \n",
    "sam = Dog(breed = 'Labrador', name = 'Tuzik')\n",
    "frank = Dog('Haskie', 'Jack')\n",
    "\n",
    "print(sam.breed)\n",
    "print(frank.name)\n",
    "print(sam.species)"
   ]
  },
  {
   "cell_type": "code",
   "execution_count": 10,
   "metadata": {},
   "outputs": [
    {
     "data": {
      "text/plain": [
       "'Haskie'"
      ]
     },
     "execution_count": 10,
     "metadata": {},
     "output_type": "execute_result"
    }
   ],
   "source": [
    "frank.breed"
   ]
  },
  {
   "cell_type": "code",
   "execution_count": 11,
   "metadata": {},
   "outputs": [
    {
     "data": {
      "text/plain": [
       "'Tuzik'"
      ]
     },
     "execution_count": 11,
     "metadata": {},
     "output_type": "execute_result"
    }
   ],
   "source": [
    "sam.name"
   ]
  },
  {
   "cell_type": "markdown",
   "metadata": {},
   "source": [
    "Інкапсуляція\n",
    "певний клас вміщує тільки атрибути і функції тільки відносно свого класу. Методи і атрибути, які описані поза класом, враховуватись не будуть. \n",
    "\n",
    "Цим ми обмежуємо логіку класу\n",
    "Методи класу Dog не будуть працювати для класу Cat"
   ]
  },
  {
   "cell_type": "code",
   "execution_count": 20,
   "metadata": {},
   "outputs": [
    {
     "name": "stdout",
     "output_type": "stream",
     "text": [
      "Radius is 2\n",
      "Area is 12.56\n"
     ]
    }
   ],
   "source": [
    "class Circle(object):\n",
    "    \n",
    "    pi = 3.14\n",
    "    \n",
    "    def __init__(self, radius=1):\n",
    "        self.radius = radius\n",
    "        \n",
    "    def area(self):\n",
    "        return self.radius * self.radius * Circle.pi\n",
    "        \n",
    "    def setRadius(self, radius):\n",
    "        self.radius = radius\n",
    "        \n",
    "    def getRadius(self):\n",
    "        return self.radius\n",
    "    \n",
    "c = Circle()\n",
    "\n",
    "c.setRadius(2)\n",
    "\n",
    "print('Radius is '+ str(c.getRadius()))\n",
    "print('Area is '+ str(c.area()))"
   ]
  },
  {
   "cell_type": "code",
   "execution_count": 31,
   "metadata": {},
   "outputs": [
    {
     "name": "stdout",
     "output_type": "stream",
     "text": [
      "Square side is: 2\n",
      "Perimeter is 8.00\n",
      "Area is 4.00\n",
      "Diagonal is 2.83\n",
      "New square side is 4\n",
      "New perimeter is 16.00\n"
     ]
    }
   ],
   "source": [
    "# створити клас квадрат з методати діагональ, площа, периметр\n",
    "import math\n",
    "\n",
    "class Square(object):\n",
    "    \n",
    "    def __init__(self, side=1):\n",
    "        self.side = side\n",
    "    \n",
    "    def perimeter(self):\n",
    "        return 4*self.side\n",
    "    \n",
    "    def area(self):\n",
    "        return self.side*self.side\n",
    "    \n",
    "    def diagonal(self):\n",
    "        return self.side*math.sqrt(2)\n",
    "    \n",
    "    def setSide(self, side):\n",
    "        self.side = side\n",
    "        \n",
    "    def getSide(self):\n",
    "        return self.side\n",
    "    \n",
    "my_square = Square(2)\n",
    "\n",
    "print('Square side is: '+str(my_square.side))\n",
    "print('Perimeter is {p:1.2f}'.format(p=my_square.perimeter()))\n",
    "print('Area is {a:1.2f}'.format(a=my_square.area()))\n",
    "print('Diagonal is {d:1.2f}'.format(d=my_square.diagonal()))\n",
    "my_square.setSide(4)\n",
    "print('New square side is '+str(my_square.getSide()))\n",
    "print('New perimeter is {p:1.2f}'.format(p=my_square.perimeter()))"
   ]
  },
  {
   "cell_type": "markdown",
   "metadata": {},
   "source": [
    "Наслідування \n",
    "\n",
    "Можна створити новий клас на основі попереднього"
   ]
  },
  {
   "cell_type": "code",
   "execution_count": 41,
   "metadata": {},
   "outputs": [
    {
     "name": "stdout",
     "output_type": "stream",
     "text": [
      "Animal created\n",
      "Dog created\n",
      "Dog\n"
     ]
    }
   ],
   "source": [
    "# базовий клас\n",
    "class Animal(object):\n",
    "    def __init__(self):\n",
    "        print('Animal created')\n",
    "    \n",
    "    def whoAmI(self):\n",
    "        print('Animal')\n",
    "        \n",
    "    def eat(self):\n",
    "        print('Eating')\n",
    "        \n",
    "# дочірній клас, який наслідує Animal\n",
    "class Dog(Animal):\n",
    "    def __init__(self):\n",
    "        Animal.__init__(self)\n",
    "        print('Dog created')\n",
    "            \n",
    "    def whoAmI(self):\n",
    "        print('Dog')\n",
    "        \n",
    "    def bark(self):\n",
    "        print(\"Woof!\")\n",
    "        \n",
    "d = Dog()\n",
    "\n",
    "d.whoAmI()"
   ]
  },
  {
   "cell_type": "code",
   "execution_count": 43,
   "metadata": {},
   "outputs": [
    {
     "name": "stdout",
     "output_type": "stream",
     "text": [
      "Eating\n"
     ]
    }
   ],
   "source": [
    "#  можемо викликати методи класа Animal\n",
    "d.eat()"
   ]
  },
  {
   "cell_type": "code",
   "execution_count": 56,
   "metadata": {},
   "outputs": [
    {
     "name": "stdout",
     "output_type": "stream",
     "text": [
      "A book created\n"
     ]
    }
   ],
   "source": [
    "class Book(object):\n",
    "    def __init__(self,title,author,pages):\n",
    "        print('A book created')\n",
    "        self.title = title\n",
    "        self.author = author\n",
    "        self.pages = pages\n",
    "        \n",
    "    def __str__(self):\n",
    "        return \"Title: %s, Author: %s, Pages: %s\" % (self.title, self.author, self.pages)\n",
    "    \n",
    "    def __len__(self):\n",
    "        return self.pages\n",
    "    \n",
    "    def __del__(self):\n",
    "        print('A book is destroyed!')\n",
    "        \n",
    "\n",
    "book = Book('Python rocks', 'Jose Porto', 159)\n"
   ]
  },
  {
   "cell_type": "code",
   "execution_count": 57,
   "metadata": {},
   "outputs": [
    {
     "name": "stdout",
     "output_type": "stream",
     "text": [
      "Title: Python rocks, Author: Jose Porto, Pages: 159\n"
     ]
    }
   ],
   "source": [
    "print(book)"
   ]
  },
  {
   "cell_type": "code",
   "execution_count": 54,
   "metadata": {},
   "outputs": [],
   "source": [
    "#del book\n",
    "#print(book)"
   ]
  },
  {
   "cell_type": "code",
   "execution_count": 58,
   "metadata": {},
   "outputs": [
    {
     "name": "stdout",
     "output_type": "stream",
     "text": [
      "159\n"
     ]
    }
   ],
   "source": [
    "print(len(book))"
   ]
  },
  {
   "cell_type": "code",
   "execution_count": 88,
   "metadata": {},
   "outputs": [],
   "source": [
    "import datetime\n",
    "\n",
    "\n",
    "class Car(object):\n",
    "    def __init__(self,brand,color,fuel,wheel,year):\n",
    "        print(\"A car is created\")\n",
    "        self.brand = brand\n",
    "        self.color = color\n",
    "        self.fuel = fuel\n",
    "        self.wheel = wheel\n",
    "        self.year = year\n",
    "        \n",
    "    def __str__(self):\n",
    "        return \"Car brand: %s\\nColor: %s\\nType of fuel: %s\\nType of drive: %s\\nYear: %s\" % (self.brand, self.color, self.fuel, self.wheel, self.year)\n",
    "    \n",
    "    def __del__(self):\n",
    "        print('A car is destroyed!')\n",
    "        \n",
    "    def age(self):\n",
    "        thisYear = datetime.datetime.today().year\n",
    "        return 'Car is '+str(thisYear - self.year)+' years old'\n",
    "        \n",
    "    def newColor(self, color):\n",
    "        self.color = color\n"
   ]
  },
  {
   "cell_type": "code",
   "execution_count": 89,
   "metadata": {},
   "outputs": [
    {
     "name": "stdout",
     "output_type": "stream",
     "text": [
      "A car is created\n",
      "A car is destroyed!\n",
      "Car brand: Reno\n",
      "Color: yellow\n",
      "Type of fuel: all-wheel drive\n",
      "Type of drive: petrol\n",
      "Year: 2015\n"
     ]
    }
   ],
   "source": [
    "myCar = Car('Reno','yellow','all-wheel drive','petrol',2015)\n",
    "print(myCar)"
   ]
  },
  {
   "cell_type": "code",
   "execution_count": 90,
   "metadata": {},
   "outputs": [
    {
     "name": "stdout",
     "output_type": "stream",
     "text": [
      "2015\n",
      "Car is 3 years old\n"
     ]
    }
   ],
   "source": [
    "print(myCar.year)\n",
    "print(myCar.age())"
   ]
  },
  {
   "cell_type": "code",
   "execution_count": 91,
   "metadata": {},
   "outputs": [
    {
     "name": "stdout",
     "output_type": "stream",
     "text": [
      "red\n"
     ]
    }
   ],
   "source": [
    "myCar.newColor('red')\n",
    "print(myCar.color)"
   ]
  },
  {
   "cell_type": "code",
   "execution_count": 93,
   "metadata": {
    "collapsed": true
   },
   "outputs": [],
   "source": [
    "# ДЗ написати 3-4 класи з магічними, не маг. методами, передивитись задачки "
   ]
  },
  {
   "cell_type": "code",
   "execution_count": null,
   "metadata": {
    "collapsed": true
   },
   "outputs": [],
   "source": []
  }
 ],
 "metadata": {
  "kernelspec": {
   "display_name": "Python 3",
   "language": "python",
   "name": "python3"
  },
  "language_info": {
   "codemirror_mode": {
    "name": "ipython",
    "version": 3
   },
   "file_extension": ".py",
   "mimetype": "text/x-python",
   "name": "python",
   "nbconvert_exporter": "python",
   "pygments_lexer": "ipython3",
   "version": "3.6.3"
  }
 },
 "nbformat": 4,
 "nbformat_minor": 2
}
