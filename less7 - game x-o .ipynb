{
 "cells": [
  {
   "cell_type": "markdown",
   "metadata": {},
   "source": [
    "Про роботу програміста:\n",
    "\n",
    "1. Читати завдання 4 рази\n",
    "2. Писати блок схеми на листочку\n",
    "3. Розбити задачу на дрібні частини (декомпозиція)\n",
    "4. Зробити щось, що працює\n",
    "5. Тестування\n",
    "6. Рефакторинг - менше коду, покращення\n",
    "7. Тестування\n",
    "\n",
    "\n",
    "Тестування:\n",
    "1. Вводити коректні дані (хепі пас)\n",
    "2. Вводити непідходящі дані і граничні"
   ]
  },
  {
   "cell_type": "code",
   "execution_count": null,
   "metadata": {},
   "outputs": [],
   "source": []
  },
  {
   "cell_type": "markdown",
   "metadata": {},
   "source": [
    "Завдання:\n",
    "\n",
    "Розробити консольну гру Хрестики-нолики.\n",
    "завдання:\n",
    "* два гравці мають мати змогу грати гру за одним компютером почергово вводячи свої данні\n",
    "* дошка має бути відображена кожен хід\n",
    "* введення данних з консолі "
   ]
  },
  {
   "cell_type": "markdown",
   "metadata": {},
   "source": [
    "1. Давати вибір хто з гравців 'х' і 'o' - запитати хто ким грає\n",
    "2. Треба приймати ходи гравців один за одним\n",
    "2. Треба якось відображати дошку з розміщеними хрестиками і нуликами\n",
    "3. Треба повідомляти хто виграв коли є три однакових символи в ряд чи по діагоналі\n",
    "4. Треба визначати, що гра закінчилась нічиєю - заповнені всі клітинки і немає трьох однакових?\n",
    "5. Пропонувати гравцям зіграти ще раз\n",
    "6. Очистка дошки\n",
    "\n"
   ]
  },
  {
   "cell_type": "markdown",
   "metadata": {},
   "source": [
    "ДЗ: розбити на менші задачки\n",
    "    і *по можливості* на кожен пункт намалювати блок схеми"
   ]
  },
  {
   "cell_type": "code",
   "execution_count": null,
   "metadata": {},
   "outputs": [],
   "source": []
  },
  {
   "cell_type": "code",
   "execution_count": 18,
   "metadata": {},
   "outputs": [
    {
     "name": "stdout",
     "output_type": "stream",
     "text": [
      "   |  |  \n",
      "----------\n",
      "   |  |  \n",
      "----------\n",
      "   |  |  \n"
     ]
    }
   ],
   "source": [
    "from IPython.display import clear_output\n",
    "\n",
    "#board = [' ']*10\n",
    "#всередині будуть тюпли із положенням і значенням\n",
    "\n",
    "def reset_board():\n",
    "    global board, game_state\n",
    "    board = [' '] * 10\n",
    "    game_state = True\n",
    "    \n",
    "\n",
    "def display_board():\n",
    "    '''Ця функція виводить ігрове поле Х/О'''\n",
    "    #TO DO write clear board function\n",
    "    clear_output()\n",
    "    print(\" \"+ board[7]+\" |\"+board[8]+\" |\"+board[9]+\" \")\n",
    "    print(\"----------\")\n",
    "    print(\" \"+ board[4]+\" |\"+board[5]+\" |\"+board[6]+\" \")\n",
    "    print(\"----------\")\n",
    "    print(\" \"+ board[1]+\" |\"+board[2]+\" |\"+board[3]+\" \")\n",
    "    #print(\"----------\")\n",
    "    \n",
    "    \n",
    "display_board()\n"
   ]
  },
  {
   "cell_type": "code",
   "execution_count": null,
   "metadata": {},
   "outputs": [],
   "source": []
  }
 ],
 "metadata": {
  "kernelspec": {
   "display_name": "Python 3",
   "language": "python",
   "name": "python3"
  },
  "language_info": {
   "codemirror_mode": {
    "name": "ipython",
    "version": 3
   },
   "file_extension": ".py",
   "mimetype": "text/x-python",
   "name": "python",
   "nbconvert_exporter": "python",
   "pygments_lexer": "ipython3",
   "version": "3.5.2"
  }
 },
 "nbformat": 4,
 "nbformat_minor": 2
}
