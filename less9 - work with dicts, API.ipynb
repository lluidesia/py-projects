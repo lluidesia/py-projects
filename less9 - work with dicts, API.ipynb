{
 "cells": [
  {
   "cell_type": "markdown",
   "metadata": {},
   "source": [
    "Задача №1\n",
    "\n",
    "Дано словник:\n",
    "\n",
    "released = {\n",
    "               “iphone” : 2007,\n",
    "               “iphone 3G” : 2008,\n",
    "               “iphone 3GS” : 2009,\n",
    "               “iphone 4\" : 2010,\n",
    "               “iphone 4S” : 2011,\n",
    "               “iphone 5\" : 2012\n",
    "       }\n",
    "print(released)\n",
    "\n",
    "1. Додати iphone5 з роком випуску 2013\n",
    "2. Вивести розмір словника.\n",
    "3. вивести всі ключі\n",
    "4. вивести всі значення\n",
    "5. очистити словник"
   ]
  },
  {
   "cell_type": "code",
   "execution_count": 2,
   "metadata": {},
   "outputs": [
    {
     "name": "stdout",
     "output_type": "stream",
     "text": [
      "{'iphone 4S': 2011, 'iphone 3GS': 2009, 'iphone 4': 2010, 'iphone': 2007, 'iphone 3G': 2008, 'iphone 5': 2012}\n"
     ]
    }
   ],
   "source": [
    "released = {\n",
    "               \"iphone\" : 2007,\n",
    "               \"iphone 3G\" : 2008,\n",
    "               \"iphone 3GS\" : 2009,\n",
    "               \"iphone 4\" : 2010,\n",
    "               \"iphone 4S\" : 2011,\n",
    "               \"iphone 5\" : 2012\n",
    "       }\n",
    "\n",
    "print(released)"
   ]
  },
  {
   "cell_type": "code",
   "execution_count": 3,
   "metadata": {},
   "outputs": [
    {
     "name": "stdout",
     "output_type": "stream",
     "text": [
      "{'iphone 4S': 2011, 'iphone 3GS': 2009, 'iphone 4': 2010, 'iphone': 2007, 'iphone 3G': 2008, 'iphone 5': 2012, 'iphone5': 2013}\n"
     ]
    }
   ],
   "source": [
    "released['iphone5'] = 2013\n",
    "print(released)"
   ]
  },
  {
   "cell_type": "code",
   "execution_count": 4,
   "metadata": {},
   "outputs": [
    {
     "data": {
      "text/plain": [
       "7"
      ]
     },
     "execution_count": 4,
     "metadata": {},
     "output_type": "execute_result"
    }
   ],
   "source": [
    "len(released)"
   ]
  },
  {
   "cell_type": "code",
   "execution_count": 7,
   "metadata": {},
   "outputs": [
    {
     "data": {
      "text/plain": [
       "dict_keys(['iphone 4S', 'iphone 3GS', 'iphone 4', 'iphone', 'iphone 3G', 'iphone 5', 'iphone5'])"
      ]
     },
     "execution_count": 7,
     "metadata": {},
     "output_type": "execute_result"
    }
   ],
   "source": [
    "released.keys()"
   ]
  },
  {
   "cell_type": "code",
   "execution_count": 8,
   "metadata": {},
   "outputs": [
    {
     "data": {
      "text/plain": [
       "dict_values([2011, 2009, 2010, 2007, 2008, 2012, 2013])"
      ]
     },
     "execution_count": 8,
     "metadata": {},
     "output_type": "execute_result"
    }
   ],
   "source": [
    "released.values()"
   ]
  },
  {
   "cell_type": "code",
   "execution_count": 11,
   "metadata": {},
   "outputs": [
    {
     "name": "stdout",
     "output_type": "stream",
     "text": [
      "{}\n"
     ]
    }
   ],
   "source": [
    "released.clear()\n",
    "print(released)"
   ]
  },
  {
   "cell_type": "code",
   "execution_count": null,
   "metadata": {},
   "outputs": [],
   "source": []
  },
  {
   "cell_type": "code",
   "execution_count": 13,
   "metadata": {},
   "outputs": [],
   "source": [
    "#Задача №2\n",
    "#Написати функцію яка обєднає два словника:\n",
    "\n",
    "x = {'a':1, 'b': 2}\n",
    "y = {'b':10, 'c': 11}"
   ]
  },
  {
   "cell_type": "code",
   "execution_count": 14,
   "metadata": {},
   "outputs": [
    {
     "data": {
      "text/plain": [
       "10"
      ]
     },
     "execution_count": 14,
     "metadata": {},
     "output_type": "execute_result"
    }
   ],
   "source": [
    "y['b']"
   ]
  },
  {
   "cell_type": "code",
   "execution_count": 15,
   "metadata": {},
   "outputs": [],
   "source": [
    "def unite_dicts(x,y):\n",
    "    for k in y.keys():\n",
    "        x[k] = y[k]\n",
    "    return x"
   ]
  },
  {
   "cell_type": "code",
   "execution_count": 16,
   "metadata": {},
   "outputs": [
    {
     "name": "stdout",
     "output_type": "stream",
     "text": [
      "{'c': 11, 'a': 1, 'b': 10}\n"
     ]
    }
   ],
   "source": [
    "z = unite_dicts(x,y)\n",
    "print(z)"
   ]
  },
  {
   "cell_type": "code",
   "execution_count": 30,
   "metadata": {},
   "outputs": [
    {
     "data": {
      "text/plain": [
       "{'a': 1, 'b': 10, 'c': 11}"
      ]
     },
     "execution_count": 30,
     "metadata": {},
     "output_type": "execute_result"
    }
   ],
   "source": [
    "dd = x\n",
    "dd"
   ]
  },
  {
   "cell_type": "code",
   "execution_count": 28,
   "metadata": {},
   "outputs": [
    {
     "name": "stdout",
     "output_type": "stream",
     "text": [
      "{'c': 11, 'a': 1, 'b': 10}\n"
     ]
    }
   ],
   "source": [
    "def merge_two_dicts(x, y):\n",
    "    z = x.copy()   \n",
    "    z.update(y)  \n",
    "    return z\n",
    "\n",
    "print(merge_two_dicts(x,y))"
   ]
  },
  {
   "cell_type": "code",
   "execution_count": 37,
   "metadata": {},
   "outputs": [
    {
     "name": "stdout",
     "output_type": "stream",
     "text": [
      "{'c': 11, 'a': 1, 'b': 10}\n"
     ]
    }
   ],
   "source": [
    "z = {**x, **y}\n",
    "print(z)"
   ]
  },
  {
   "cell_type": "code",
   "execution_count": 40,
   "metadata": {},
   "outputs": [
    {
     "ename": "SyntaxError",
     "evalue": "invalid syntax (<ipython-input-40-72ef66e30eb2>, line 5)",
     "output_type": "error",
     "traceback": [
      "\u001b[0;36m  File \u001b[0;32m\"<ipython-input-40-72ef66e30eb2>\"\u001b[0;36m, line \u001b[0;32m5\u001b[0m\n\u001b[0;31m    return resultz = merge_dicts(a, b, c, d, e, f, g)\u001b[0m\n\u001b[0m                   ^\u001b[0m\n\u001b[0;31mSyntaxError\u001b[0m\u001b[0;31m:\u001b[0m invalid syntax\n"
     ]
    }
   ],
   "source": [
    "def merge_dicts(*dict_args):\n",
    "    result = {}\n",
    "    for dictionary in dict_args:\n",
    "        result.update(dictionary)\n",
    "    return resultz = merge_dicts(a, b, c, d, e, f, g)"
   ]
  },
  {
   "cell_type": "code",
   "execution_count": null,
   "metadata": {},
   "outputs": [],
   "source": []
  },
  {
   "cell_type": "code",
   "execution_count": 74,
   "metadata": {},
   "outputs": [
    {
     "name": "stdout",
     "output_type": "stream",
     "text": [
      "{'body': 'quia et suscipit\\nsuscipit recusandae consequuntur expedita et cum\\nreprehenderit molestiae ut ut quas totam\\nnostrum rerum est autem sunt rem eveniet architecto', 'userId': 1, 'title': 'sunt aut facere repellat provident occaecati excepturi optio reprehenderit', 'id': 1}\n"
     ]
    }
   ],
   "source": [
    "'''ЗАДАЧА №3\n",
    "Розробити набір функцій для роботи з API https://jsonplaceholder.typicode.com/\n",
    "написати:\n",
    "* функцію яка буде виводити список всіх постів\n",
    "* функцію яка буде виводити пост по вказаному к параметрі id\n",
    "* функцію яка буде виводити кометарі до поста\n",
    "* функцію яка буде виводити всі пости користувача по id користувача\n",
    "Для виконання запитів до api вам необхідно підєднати бібліотеку requests та json\n",
    "'''\n",
    "\n",
    "import requests\n",
    "import json\n",
    "\n",
    "#http://docs.python-requests.org/en/master/\n",
    "    \n",
    "uri = 'https://jsonplaceholder.typicode.com/posts/1'\n",
    "r = requests.get(uri)\n",
    "print(r.json())"
   ]
  },
  {
   "cell_type": "code",
   "execution_count": 76,
   "metadata": {},
   "outputs": [
    {
     "data": {
      "text/plain": [
       "'{\\n  \"userId\": 1,\\n  \"id\": 1,\\n  \"title\": \"sunt aut facere repellat provident occaecati excepturi optio reprehenderit\",\\n  \"body\": \"quia et suscipit\\\\nsuscipit recusandae consequuntur expedita et cum\\\\nreprehenderit molestiae ut ut quas totam\\\\nnostrum rerum est autem sunt rem eveniet architecto\"\\n}'"
      ]
     },
     "execution_count": 76,
     "metadata": {},
     "output_type": "execute_result"
    }
   ],
   "source": [
    "r.text"
   ]
  },
  {
   "cell_type": "code",
   "execution_count": 46,
   "metadata": {},
   "outputs": [
    {
     "data": {
      "text/plain": [
       "'utf-8'"
      ]
     },
     "execution_count": 46,
     "metadata": {},
     "output_type": "execute_result"
    }
   ],
   "source": [
    "r.encoding"
   ]
  },
  {
   "cell_type": "code",
   "execution_count": 47,
   "metadata": {},
   "outputs": [
    {
     "data": {
      "text/plain": [
       "'application/json; charset=utf-8'"
      ]
     },
     "execution_count": 47,
     "metadata": {},
     "output_type": "execute_result"
    }
   ],
   "source": [
    "r.headers['content-type']"
   ]
  },
  {
   "cell_type": "code",
   "execution_count": 71,
   "metadata": {},
   "outputs": [
    {
     "data": {
      "text/plain": [
       "{'body': 'quia et suscipit\\nsuscipit recusandae consequuntur expedita et cum\\nreprehenderit molestiae ut ut quas totam\\nnostrum rerum est autem sunt rem eveniet architecto',\n",
       " 'id': 1,\n",
       " 'title': 'sunt aut facere repellat provident occaecati excepturi optio reprehenderit',\n",
       " 'userId': 1}"
      ]
     },
     "execution_count": 71,
     "metadata": {},
     "output_type": "execute_result"
    }
   ],
   "source": [
    "#функцію яка буде виводити список всіх постів\n",
    "d = r.json()\n",
    "d"
   ]
  },
  {
   "cell_type": "code",
   "execution_count": 70,
   "metadata": {},
   "outputs": [
    {
     "data": {
      "text/plain": [
       "{'Etag': 'W/\"124-yiKdLzqO5gfBrJFrcdJ8Yq0LGnU\"', 'Set-Cookie': '__cfduid=da16a14eeadce65a9e32784770e6fb0bf1531931684; expires=Thu, 18-Jul-19 16:34:44 GMT; path=/; domain=.typicode.com; HttpOnly', 'X-Content-Type-Options': 'nosniff', 'Access-Control-Allow-Credentials': 'true', 'Vary': 'Origin, Accept-Encoding', 'Server': 'cloudflare', 'CF-Cache-Status': 'HIT', 'Expect-CT': 'max-age=604800, report-uri=\"https://report-uri.cloudflare.com/cdn-cgi/beacon/expect-ct\"', 'Date': 'Wed, 18 Jul 2018 16:34:44 GMT', 'Content-Encoding': 'gzip', 'Expires': 'Wed, 18 Jul 2018 20:34:44 GMT', 'Cache-Control': 'public, max-age=14400', 'Transfer-Encoding': 'chunked', 'Via': '1.1 vegur', 'Content-Type': 'application/json; charset=utf-8', 'Connection': 'keep-alive', 'Pragma': 'no-cache', 'X-Powered-By': 'Express', 'CF-RAY': '43c65b82ed158fc9-DME'}"
      ]
     },
     "execution_count": 70,
     "metadata": {},
     "output_type": "execute_result"
    }
   ],
   "source": [
    "r.headers"
   ]
  },
  {
   "cell_type": "code",
   "execution_count": 111,
   "metadata": {},
   "outputs": [],
   "source": [
    "r = requests.get('https://jsonplaceholder.typicode.com/posts/1')\n",
    "#a = r.json()\n",
    "#posts_titles = []\n",
    "#for i in a:\n",
    "#    posts_titles.append(i['title'])\n",
    "    \n",
    "#posts_titles"
   ]
  },
  {
   "cell_type": "code",
   "execution_count": 112,
   "metadata": {},
   "outputs": [
    {
     "data": {
      "text/plain": [
       "{'body': 'quia et suscipit\\nsuscipit recusandae consequuntur expedita et cum\\nreprehenderit molestiae ut ut quas totam\\nnostrum rerum est autem sunt rem eveniet architecto',\n",
       " 'id': 1,\n",
       " 'title': 'sunt aut facere repellat provident occaecati excepturi optio reprehenderit',\n",
       " 'userId': 1}"
      ]
     },
     "execution_count": 112,
     "metadata": {},
     "output_type": "execute_result"
    }
   ],
   "source": [
    "def show_posts(r):\n",
    "    return r.json()\n",
    "    \n",
    "show_posts(r)"
   ]
  },
  {
   "cell_type": "code",
   "execution_count": 95,
   "metadata": {},
   "outputs": [
    {
     "data": {
      "text/plain": [
       "{'body': 'quia et suscipit\\nsuscipit recusandae consequuntur expedita et cum\\nreprehenderit molestiae ut ut quas totam\\nnostrum rerum est autem sunt rem eveniet architecto',\n",
       " 'id': 1,\n",
       " 'title': 'sunt aut facere repellat provident occaecati excepturi optio reprehenderit',\n",
       " 'userId': 1}"
      ]
     },
     "execution_count": 95,
     "metadata": {},
     "output_type": "execute_result"
    }
   ],
   "source": [
    "def show_post_by_id(r,post_id):\n",
    "    for i in r.json():\n",
    "        if i['id'] == post_id:\n",
    "            return i\n",
    "    return \"No posts with id \"+str(post_id)\n",
    "\n",
    "show_post_by_id(r,1)"
   ]
  },
  {
   "cell_type": "code",
   "execution_count": 114,
   "metadata": {},
   "outputs": [
    {
     "data": {
      "text/plain": [
       "[{'body': 'laudantium enim quasi est quidem magnam voluptate ipsam eos\\ntempora quo necessitatibus\\ndolor quam autem quasi\\nreiciendis et nam sapiente accusantium',\n",
       "  'email': 'Eliseo@gardner.biz',\n",
       "  'id': 1,\n",
       "  'name': 'id labore ex et quam laborum',\n",
       "  'postId': 1},\n",
       " {'body': 'est natus enim nihil est dolore omnis voluptatem numquam\\net omnis occaecati quod ullam at\\nvoluptatem error expedita pariatur\\nnihil sint nostrum voluptatem reiciendis et',\n",
       "  'email': 'Jayne_Kuhic@sydney.com',\n",
       "  'id': 2,\n",
       "  'name': 'quo vero reiciendis velit similique earum',\n",
       "  'postId': 1},\n",
       " {'body': 'quia molestiae reprehenderit quasi aspernatur\\naut expedita occaecati aliquam eveniet laudantium\\nomnis quibusdam delectus saepe quia accusamus maiores nam est\\ncum et ducimus et vero voluptates excepturi deleniti ratione',\n",
       "  'email': 'Nikita@garfield.biz',\n",
       "  'id': 3,\n",
       "  'name': 'odio adipisci rerum aut animi',\n",
       "  'postId': 1},\n",
       " {'body': 'non et atque\\noccaecati deserunt quas accusantium unde odit nobis qui voluptatem\\nquia voluptas consequuntur itaque dolor\\net qui rerum deleniti ut occaecati',\n",
       "  'email': 'Lew@alysha.tv',\n",
       "  'id': 4,\n",
       "  'name': 'alias odio sit',\n",
       "  'postId': 1},\n",
       " {'body': 'harum non quasi et ratione\\ntempore iure ex voluptates in ratione\\nharum architecto fugit inventore cupiditate\\nvoluptates magni quo et',\n",
       "  'email': 'Hayden@althea.biz',\n",
       "  'id': 5,\n",
       "  'name': 'vero eaque aliquid doloribus et culpa',\n",
       "  'postId': 1}]"
      ]
     },
     "execution_count": 114,
     "metadata": {},
     "output_type": "execute_result"
    }
   ],
   "source": [
    "def show_post_comments(r,post_id):\n",
    "    #/posts/1/comments\n",
    "    c = 'https://jsonplaceholder.typicode.com/posts/'+str(post_id)+'/comments'\n",
    "    r_comments = requests.get(c)\n",
    "    return r_comments.json()\n",
    "\n",
    "show_post_comments(r,1)"
   ]
  },
  {
   "cell_type": "code",
   "execution_count": 115,
   "metadata": {},
   "outputs": [
    {
     "ename": "TypeError",
     "evalue": "string indices must be integers",
     "output_type": "error",
     "traceback": [
      "\u001b[0;31m---------------------------------------------------------------------------\u001b[0m",
      "\u001b[0;31mTypeError\u001b[0m                                 Traceback (most recent call last)",
      "\u001b[0;32m<ipython-input-115-1f34f798904d>\u001b[0m in \u001b[0;36m<module>\u001b[0;34m()\u001b[0m\n\u001b[1;32m      6\u001b[0m     \u001b[0;32mreturn\u001b[0m \u001b[0muserPosts\u001b[0m\u001b[0;34m\u001b[0m\u001b[0m\n\u001b[1;32m      7\u001b[0m \u001b[0;34m\u001b[0m\u001b[0m\n\u001b[0;32m----> 8\u001b[0;31m \u001b[0mshow_user_posts\u001b[0m\u001b[0;34m(\u001b[0m\u001b[0mr\u001b[0m\u001b[0;34m,\u001b[0m \u001b[0;36m1\u001b[0m\u001b[0;34m)\u001b[0m\u001b[0;34m\u001b[0m\u001b[0m\n\u001b[0m",
      "\u001b[0;32m<ipython-input-115-1f34f798904d>\u001b[0m in \u001b[0;36mshow_user_posts\u001b[0;34m(r, userId)\u001b[0m\n\u001b[1;32m      2\u001b[0m     \u001b[0muserPosts\u001b[0m \u001b[0;34m=\u001b[0m \u001b[0;34m[\u001b[0m\u001b[0;34m]\u001b[0m\u001b[0;34m\u001b[0m\u001b[0m\n\u001b[1;32m      3\u001b[0m     \u001b[0;32mfor\u001b[0m \u001b[0mi\u001b[0m \u001b[0;32min\u001b[0m \u001b[0mr\u001b[0m\u001b[0;34m.\u001b[0m\u001b[0mjson\u001b[0m\u001b[0;34m(\u001b[0m\u001b[0;34m)\u001b[0m\u001b[0;34m:\u001b[0m\u001b[0;34m\u001b[0m\u001b[0m\n\u001b[0;32m----> 4\u001b[0;31m         \u001b[0;32mif\u001b[0m \u001b[0mi\u001b[0m\u001b[0;34m[\u001b[0m\u001b[0;34m'userId'\u001b[0m\u001b[0;34m]\u001b[0m \u001b[0;34m==\u001b[0m \u001b[0muserId\u001b[0m\u001b[0;34m:\u001b[0m\u001b[0;34m\u001b[0m\u001b[0m\n\u001b[0m\u001b[1;32m      5\u001b[0m             \u001b[0muserPosts\u001b[0m\u001b[0;34m.\u001b[0m\u001b[0mappend\u001b[0m\u001b[0;34m(\u001b[0m\u001b[0mi\u001b[0m\u001b[0;34m)\u001b[0m\u001b[0;34m\u001b[0m\u001b[0m\n\u001b[1;32m      6\u001b[0m     \u001b[0;32mreturn\u001b[0m \u001b[0muserPosts\u001b[0m\u001b[0;34m\u001b[0m\u001b[0m\n",
      "\u001b[0;31mTypeError\u001b[0m: string indices must be integers"
     ]
    }
   ],
   "source": [
    "def show_user_posts(r, userId):\n",
    "    userPosts = []\n",
    "    for i in r.json():\n",
    "        if i['userId'] == userId:\n",
    "            userPosts.append(i)\n",
    "    return userPosts\n",
    "\n",
    "show_user_posts(r, 1)"
   ]
  },
  {
   "cell_type": "code",
   "execution_count": null,
   "metadata": {},
   "outputs": [],
   "source": []
  }
 ],
 "metadata": {
  "kernelspec": {
   "display_name": "Python 3",
   "language": "python",
   "name": "python3"
  },
  "language_info": {
   "codemirror_mode": {
    "name": "ipython",
    "version": 3
   },
   "file_extension": ".py",
   "mimetype": "text/x-python",
   "name": "python",
   "nbconvert_exporter": "python",
   "pygments_lexer": "ipython3",
   "version": "3.6.5"
  }
 },
 "nbformat": 4,
 "nbformat_minor": 2
}
