{
 "cells": [
  {
   "cell_type": "markdown",
   "metadata": {},
   "source": [
    "встановити mysql\n",
    "\n",
    "Ubuntu\n",
    "https://support.rackspace.com/how-to/installing-mysql-server-on-ubuntu/ \n",
    "\n",
    "sudo apt-get update sudo apt-get install mysql-server\n",
    "\n",
    "https://www.mysql.com/products/workbench/\n",
    "\n",
    "\n",
    "/usr/bin/mysql -u root -p\n",
    "\n",
    "\n",
    "/usr/bin/mysql-workbench\n",
    "https://askubuntu.com/questions/904972/mysql-workbench-fails-to-launch\n",
    "\n",
    "\n",
    "\n",
    "SQL \n",
    "\n",
    "select 'name' from 'users' where id=1"
   ]
  },
  {
   "cell_type": "code",
   "execution_count": null,
   "metadata": {},
   "outputs": [],
   "source": []
  },
  {
   "cell_type": "code",
   "execution_count": null,
   "metadata": {},
   "outputs": [],
   "source": []
  },
  {
   "cell_type": "code",
   "execution_count": null,
   "metadata": {},
   "outputs": [],
   "source": []
  },
  {
   "cell_type": "code",
   "execution_count": null,
   "metadata": {},
   "outputs": [],
   "source": []
  },
  {
   "cell_type": "code",
   "execution_count": null,
   "metadata": {},
   "outputs": [],
   "source": []
  },
  {
   "cell_type": "code",
   "execution_count": null,
   "metadata": {},
   "outputs": [],
   "source": []
  },
  {
   "cell_type": "code",
   "execution_count": null,
   "metadata": {},
   "outputs": [],
   "source": []
  }
 ],
 "metadata": {
  "kernelspec": {
   "display_name": "Python 3",
   "language": "python",
   "name": "python3"
  },
  "language_info": {
   "codemirror_mode": {
    "name": "ipython",
    "version": 3
   },
   "file_extension": ".py",
   "mimetype": "text/x-python",
   "name": "python",
   "nbconvert_exporter": "python",
   "pygments_lexer": "ipython3",
   "version": "3.6.5"
  }
 },
 "nbformat": 4,
 "nbformat_minor": 2
}
