{
 "cells": [
  {
   "cell_type": "code",
   "execution_count": 1,
   "metadata": {},
   "outputs": [
    {
     "name": "stdout",
     "output_type": "stream",
     "text": [
      "   |  |  \n",
      "----------\n",
      "   |  |  \n",
      "----------\n",
      "   |  |  \n"
     ]
    }
   ],
   "source": [
    "from IPython.display import clear_output\n",
    "\n",
    "board = [' ']*10\n",
    "game_state = True\n",
    "announce = ''\n",
    "#всередині будуть тюпли із положенням і значенням\n",
    "\n",
    "def reset_board():\n",
    "    global board, game_state\n",
    "    board = [' '] * 10\n",
    "    game_state = True\n",
    "    \n",
    "\n",
    "def display_board():\n",
    "    '''Ця функція виводить ігрове поле Х/О'''\n",
    "    #TO DO write clear board function\n",
    "    clear_output()\n",
    "    print(\" \"+ board[7]+\" |\"+board[8]+\" |\"+board[9]+\" \")\n",
    "    print(\"----------\")\n",
    "    print(\" \"+ board[4]+\" |\"+board[5]+\" |\"+board[6]+\" \")\n",
    "    print(\"----------\")\n",
    "    print(\" \"+ board[1]+\" |\"+board[2]+\" |\"+board[3]+\" \")\n",
    "    #print(\"----------\")\n",
    "    \n",
    "    \n",
    "display_board()\n",
    "\n"
   ]
  },
  {
   "cell_type": "code",
   "execution_count": 2,
   "metadata": {
    "collapsed": true
   },
   "outputs": [],
   "source": [
    "def win_check(board, player):\n",
    "    '''Check Horizontals, Verticals, and Diagonals for a win'''\n",
    "    if (board[7] == board[8] == board[9] == player) or \\\n",
    "    (board[4] == board[5] == board[6] == player) or \\\n",
    "    (board[1] == board[2] == board[3] == player) or \\\n",
    "    (board[7] == board[4] == board[1] == player) or \\\n",
    "    (board[8] == board[5] == board[2] == player) or \\\n",
    "    (board[9] == board[6] == board[3] == player) or \\\n",
    "    (board[1] == board[5] == board[9] == player) or \\\n",
    "    (board[3] == board [5] == board[7] == player):\n",
    "        return True\n",
    "    else:\n",
    "        return False\n",
    "    \n",
    "#win_check(board, ' ')"
   ]
  },
  {
   "cell_type": "code",
   "execution_count": 3,
   "metadata": {
    "collapsed": true
   },
   "outputs": [],
   "source": [
    "def full_board_check(board):\n",
    "    '''Функція перевіряє чи заповнені всі клітини в дошці'''\n",
    "    if ' ' in board[1:]:\n",
    "        return False\n",
    "    else:\n",
    "        return True\n",
    "    \n",
    "#full_board_check(board)"
   ]
  },
  {
   "cell_type": "code",
   "execution_count": 4,
   "metadata": {
    "collapsed": true
   },
   "outputs": [],
   "source": [
    "def ask_player(mark):\n",
    "    '''Функція питає гравця куди поставити Х чи О'''\n",
    "    global board\n",
    "    req = 'Choose where to place your: ' + mark\n",
    "    while True:\n",
    "        try:\n",
    "            choice = int(input(req))\n",
    "        except ValueError:\n",
    "            print(\"Sorry, please input a number between 1-9.\")\n",
    "            continue\n",
    "            \n",
    "        if choice not in range(1,10):\n",
    "            print(\"Sorry, please input a number between 1-9.\")\n",
    "            continue\n",
    "            \n",
    "        if board[choice] == ' ':\n",
    "            board[choice] = mark \n",
    "            break\n",
    "        else:\n",
    "            print(\"That space isn't empty\")\n",
    "            continue\n",
    "            \n",
    "#ask_player('x')"
   ]
  },
  {
   "cell_type": "code",
   "execution_count": 5,
   "metadata": {
    "collapsed": true
   },
   "outputs": [],
   "source": [
    "def player_choice(mark):\n",
    "    global board, game_state,announce\n",
    "    # анонс пустої гри\n",
    "    announce = ''\n",
    "    # Get Player Input\n",
    "    mark = str(mark)\n",
    "    # Validate Input\n",
    "    ask_player(mark)\n",
    "    \n",
    "    #Перевірка чи гравець виграв\n",
    "    if win_check(board, mark):\n",
    "        clear_output()\n",
    "        display_board()\n",
    "        announce = mark + \" wins! Вітання!\"\n",
    "        game_state = False\n",
    "        \n",
    "    # Show board\n",
    "    clear_output()\n",
    "    display_board()\n",
    "    \n",
    "    # Перевірити чи нічия\n",
    "    if full_board_check(board):\n",
    "        announce = \"Нічия!\"\n",
    "        game_state = False\n",
    "        \n",
    "    return game_state, announce\n",
    "\n"
   ]
  },
  {
   "cell_type": "code",
   "execution_count": 6,
   "metadata": {
    "collapsed": true
   },
   "outputs": [],
   "source": [
    "def play_game():\n",
    "    reset_board()\n",
    "    global announce\n",
    "    \n",
    "    # Встановити маркери\n",
    "    X='X'\n",
    "    O='O'\n",
    "    while True:\n",
    "        # Show board\n",
    "        clear_output()\n",
    "        display_board()\n",
    "        \n",
    "        # Player X turn\n",
    "        game_state, announce = player_choice(X)\n",
    "        print(announce)\n",
    "        if game_state == False:\n",
    "            break\n",
    "        \n",
    "        # Гравець О ходить\n",
    "        game_state, announce = player_choice(O)\n",
    "        print(announce)\n",
    "        if game_state == False:\n",
    "            break\n",
    "            \n",
    "    # Спитати гравців чи будуть вони грати ще раз\n",
    "    rematch = input(\"Хочете зіграти ще раз? y/n\")\n",
    "    if rematch == 'y':\n",
    "        play_game()\n",
    "    else:\n",
    "        print(\"Дякую за гру!\")\n",
    "        \n",
    "\n",
    "        "
   ]
  },
  {
   "cell_type": "code",
   "execution_count": null,
   "metadata": {
    "collapsed": true
   },
   "outputs": [],
   "source": []
  },
  {
   "cell_type": "code",
   "execution_count": null,
   "metadata": {
    "collapsed": true
   },
   "outputs": [],
   "source": []
  }
 ],
 "metadata": {
  "kernelspec": {
   "display_name": "Python 3",
   "language": "python",
   "name": "python3"
  },
  "language_info": {
   "codemirror_mode": {
    "name": "ipython",
    "version": 3
   },
   "file_extension": ".py",
   "mimetype": "text/x-python",
   "name": "python",
   "nbconvert_exporter": "python",
   "pygments_lexer": "ipython3",
   "version": "3.6.3"
  }
 },
 "nbformat": 4,
 "nbformat_minor": 2
}
