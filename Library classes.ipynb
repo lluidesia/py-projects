{
 "cells": [
  {
   "cell_type": "code",
   "execution_count": 2,
   "metadata": {},
   "outputs": [],
   "source": [
    "class Library(object):\n",
    "    def __init__(self,name,adress,hours_of_work):\n",
    "        self.name = name\n",
    "        self.adress = adress\n",
    "        self.hours_of_work = hours_of_work\n",
    "    \n",
    "    \n",
    "class Book(object):\n",
    "    def __init__(self,title,author,year,style):\n",
    "        self.title = title\n",
    "        self.author = author\n",
    "        self.year = year\n",
    "        self.style = style\n",
    "        \n",
    "    \n",
    "class Employee(object):\n",
    "    def __init__(self,name,position):\n",
    "        self.name = name\n",
    "        self.position = position\n",
    "\n",
    "        \n",
    "class Visitor(object):\n",
    "    def __init__(self,name,registration_date,last_visit_date):\n",
    "        self.name = name\n",
    "        self.registration_date = registration_date\n",
    "        self.last_visit_date = last_visit_date\n",
    "        "
   ]
  },
  {
   "cell_type": "code",
   "execution_count": 4,
   "metadata": {},
   "outputs": [],
   "source": [
    "lib1 = Library('Lib1', 'adress1', 'hours of work 1')\n",
    "\n",
    "book1 = Book('Book1', 'Author1', 2001, 'Style1')\n",
    "book2 = Book('Book2', 'Author2', 2002, 'Style2')\n",
    "book3 = Book('Book3', 'Author3', 2003, 'Style3')\n",
    "\n",
    "empl1 = Employee('Employee1', 'Position1')\n",
    "empl2 = Employee('Employee2', 'Position2')\n",
    "empl3 = Employee('Employee3', 'Position3')\n",
    "\n",
    "vist1 = Visitor('Visitor1','10.01.2017','11.02.2018')\n",
    "vist2 = Visitor('Visitor2','11.02.2017','12.03.2018')\n",
    "vist3 = Visitor('Visitor3','12.03.2017','13.04.2018')\n"
   ]
  },
  {
   "cell_type": "code",
   "execution_count": null,
   "metadata": {},
   "outputs": [],
   "source": []
  }
 ],
 "metadata": {
  "kernelspec": {
   "display_name": "Python 3",
   "language": "python",
   "name": "python3"
  },
  "language_info": {
   "codemirror_mode": {
    "name": "ipython",
    "version": 3
   },
   "file_extension": ".py",
   "mimetype": "text/x-python",
   "name": "python",
   "nbconvert_exporter": "python",
   "pygments_lexer": "ipython3",
   "version": "3.6.5"
  }
 },
 "nbformat": 4,
 "nbformat_minor": 2
}
