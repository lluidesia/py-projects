{
 "cells": [
  {
   "cell_type": "code",
   "execution_count": 98,
   "metadata": {},
   "outputs": [],
   "source": [
    "library = [\n",
    "    {'isbn':111, 'title':'book111'},\n",
    "    {'isbn':222, 'title':'book222'},\n",
    "    {'isbn':333, 'title':'book333'}\n",
    "]"
   ]
  },
  {
   "cell_type": "code",
   "execution_count": 99,
   "metadata": {},
   "outputs": [
    {
     "data": {
      "text/plain": [
       "{'isbn': 111, 'title': 'book111'}"
      ]
     },
     "execution_count": 99,
     "metadata": {},
     "output_type": "execute_result"
    }
   ],
   "source": [
    "def library_search_isbn(isbn):\n",
    "    for l in library:\n",
    "        if l['isbn']==isbn:\n",
    "            return l\n",
    "    return 'Такої книги немає'\n",
    "            \n",
    "library_search_isbn(111)"
   ]
  },
  {
   "cell_type": "code",
   "execution_count": 100,
   "metadata": {},
   "outputs": [
    {
     "data": {
      "text/plain": [
       "{'isbn': 222, 'title': 'book222'}"
      ]
     },
     "execution_count": 100,
     "metadata": {},
     "output_type": "execute_result"
    }
   ],
   "source": [
    "def library_search_title(title):\n",
    "    for l in library:\n",
    "        if l['title']==title:\n",
    "            return l\n",
    "    return 'No books'\n",
    "\n",
    "            \n",
    "library_search_title('book222')"
   ]
  },
  {
   "cell_type": "code",
   "execution_count": 101,
   "metadata": {},
   "outputs": [],
   "source": [
    "def library_change_title(title_old,title_new):\n",
    "    book = library_search_title(title_old)\n",
    "    book['title'] = title_new\n",
    "    \n",
    "    \n",
    "library_change_title('book111', 'book111111')"
   ]
  },
  {
   "cell_type": "code",
   "execution_count": 102,
   "metadata": {},
   "outputs": [
    {
     "data": {
      "text/plain": [
       "[{'isbn': 111, 'title': 'book111111'},\n",
       " {'isbn': 222, 'title': 'book222'},\n",
       " {'isbn': 333, 'title': 'book333'}]"
      ]
     },
     "execution_count": 102,
     "metadata": {},
     "output_type": "execute_result"
    }
   ],
   "source": [
    "library"
   ]
  },
  {
   "cell_type": "code",
   "execution_count": null,
   "metadata": {},
   "outputs": [],
   "source": []
  },
  {
   "cell_type": "code",
   "execution_count": null,
   "metadata": {},
   "outputs": [],
   "source": []
  }
 ],
 "metadata": {
  "kernelspec": {
   "display_name": "Python 3",
   "language": "python",
   "name": "python3"
  },
  "language_info": {
   "codemirror_mode": {
    "name": "ipython",
    "version": 3
   },
   "file_extension": ".py",
   "mimetype": "text/x-python",
   "name": "python",
   "nbconvert_exporter": "python",
   "pygments_lexer": "ipython3",
   "version": "3.5.2"
  }
 },
 "nbformat": 4,
 "nbformat_minor": 2
}
