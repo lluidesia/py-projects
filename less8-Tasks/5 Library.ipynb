{
 "cells": [
  {
   "cell_type": "code",
   "execution_count": 55,
   "metadata": {},
   "outputs": [],
   "source": [
    "library = [\n",
    "    {'isbn':111, 'title':'book111'},\n",
    "    {'isbn':222, 'title':'book222'},\n",
    "    {'isbn':333, 'title':'book333'}\n",
    "]"
   ]
  },
  {
   "cell_type": "code",
   "execution_count": 37,
   "metadata": {},
   "outputs": [
    {
     "data": {
      "text/plain": [
       "{'isbn': 111, 'title': 'book111'}"
      ]
     },
     "execution_count": 37,
     "metadata": {},
     "output_type": "execute_result"
    }
   ],
   "source": [
    "def library_search_isbn(isbn):\n",
    "    for l in library:\n",
    "        if l['isbn']==isbn:\n",
    "            return l\n",
    "            \n",
    "library_search_isbn(111)"
   ]
  },
  {
   "cell_type": "code",
   "execution_count": 38,
   "metadata": {},
   "outputs": [
    {
     "data": {
      "text/plain": [
       "{'isbn': 222, 'title': 'book222'}"
      ]
     },
     "execution_count": 38,
     "metadata": {},
     "output_type": "execute_result"
    }
   ],
   "source": [
    "def library_search_title(title):\n",
    "    for l in library:\n",
    "        if l['title']==title:\n",
    "            return l\n",
    "            \n",
    "library_search_title('book222')"
   ]
  },
  {
   "cell_type": "code",
   "execution_count": 57,
   "metadata": {},
   "outputs": [],
   "source": [
    "def library_change_title(title_old,title_new):\n",
    "    book = library_search_title(title_old)\n",
    "    book['title'==] = title_new\n",
    "    \n",
    "    \n",
    "library_change_title('book111', 'book444')"
   ]
  },
  {
   "cell_type": "code",
   "execution_count": 58,
   "metadata": {},
   "outputs": [
    {
     "data": {
      "text/plain": [
       "[{'book111': 'book444', 'isbn': 111, 'title': 'book111'},\n",
       " {'isbn': 222, 'title': 'book222'},\n",
       " {'isbn': 333, 'title': 'book333'}]"
      ]
     },
     "execution_count": 58,
     "metadata": {},
     "output_type": "execute_result"
    }
   ],
   "source": [
    "library"
   ]
  },
  {
   "cell_type": "code",
   "execution_count": 49,
   "metadata": {},
   "outputs": [
    {
     "name": "stdout",
     "output_type": "stream",
     "text": [
      "{'isbn': 333, 'title': 'book4434'}\n"
     ]
    }
   ],
   "source": [
    "book = library_search_title('book444')\n",
    "b=book\n",
    "book['title'] = 'book4434'\n",
    "print(book)\n"
   ]
  },
  {
   "cell_type": "code",
   "execution_count": 51,
   "metadata": {},
   "outputs": [
    {
     "data": {
      "text/plain": [
       "[{'isbn': 111, 'title': 'book111'},\n",
       " {'isbn': 222, 'title': 'book222'},\n",
       " {'isbn': 333, 'title': 'book4434'}]"
      ]
     },
     "execution_count": 51,
     "metadata": {},
     "output_type": "execute_result"
    }
   ],
   "source": [
    "\n",
    "library"
   ]
  },
  {
   "cell_type": "code",
   "execution_count": null,
   "metadata": {},
   "outputs": [],
   "source": []
  }
 ],
 "metadata": {
  "kernelspec": {
   "display_name": "Python 3",
   "language": "python",
   "name": "python3"
  },
  "language_info": {
   "codemirror_mode": {
    "name": "ipython",
    "version": 3
   },
   "file_extension": ".py",
   "mimetype": "text/x-python",
   "name": "python",
   "nbconvert_exporter": "python",
   "pygments_lexer": "ipython3",
   "version": "3.5.2"
  }
 },
 "nbformat": 4,
 "nbformat_minor": 2
}
