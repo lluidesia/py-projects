{
 "cells": [
  {
   "cell_type": "code",
   "execution_count": 15,
   "metadata": {},
   "outputs": [
    {
     "name": "stdout",
     "output_type": "stream",
     "text": [
      "Повна сума: 102.01\n",
      "Відсотки: 2.01\n"
     ]
    }
   ],
   "source": [
    "def bank(deposit,years,interest):\n",
    "    deposit_body = deposit\n",
    "    \n",
    "    for y in range(years):\n",
    "        deposit_body = deposit_body*(100+interest)/100\n",
    "        \n",
    "    return deposit_body, deposit_body-deposit\n",
    "\n",
    "d,p = bank(100,2,1)\n",
    "print(\"Повна сума: {d:1.2f}\\nВідсотки: {p:1.2f}\".format(d=d,p=p))"
   ]
  },
  {
   "cell_type": "code",
   "execution_count": null,
   "metadata": {},
   "outputs": [],
   "source": []
  }
 ],
 "metadata": {
  "kernelspec": {
   "display_name": "Python 3",
   "language": "python",
   "name": "python3"
  },
  "language_info": {
   "codemirror_mode": {
    "name": "ipython",
    "version": 3
   },
   "file_extension": ".py",
   "mimetype": "text/x-python",
   "name": "python",
   "nbconvert_exporter": "python",
   "pygments_lexer": "ipython3",
   "version": "3.5.2"
  }
 },
 "nbformat": 4,
 "nbformat_minor": 2
}
