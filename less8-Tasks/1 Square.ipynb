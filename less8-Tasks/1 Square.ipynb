{
 "cells": [
  {
   "cell_type": "code",
   "execution_count": 39,
   "metadata": {},
   "outputs": [
    {
     "name": "stdout",
     "output_type": "stream",
     "text": [
      "Perimeter: 12.00\n",
      "Square: 9.00\n",
      "Diagonal: 4.24\n"
     ]
    }
   ],
   "source": [
    "import math\n",
    "\n",
    "def square(a):\n",
    "    p = 4*a\n",
    "    s = a**2\n",
    "    d = a*math.sqrt(2)\n",
    "    return (p,s,d)\n",
    "\n",
    "p,s,d = square(3)\n",
    "print(\"Perimeter: {p:1.2f}\\nSquare: {s:1.2f}\\nDiagonal: {d:1.2f}\".format(p=p,s=s,d=d))"
   ]
  },
  {
   "cell_type": "code",
   "execution_count": null,
   "metadata": {},
   "outputs": [],
   "source": []
  }
 ],
 "metadata": {
  "kernelspec": {
   "display_name": "Python 3",
   "language": "python",
   "name": "python3"
  },
  "language_info": {
   "codemirror_mode": {
    "name": "ipython",
    "version": 3
   },
   "file_extension": ".py",
   "mimetype": "text/x-python",
   "name": "python",
   "nbconvert_exporter": "python",
   "pygments_lexer": "ipython3",
   "version": "3.5.2"
  }
 },
 "nbformat": 4,
 "nbformat_minor": 2
}
