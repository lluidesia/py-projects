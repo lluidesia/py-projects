{
 "cells": [
  {
   "cell_type": "markdown",
   "metadata": {},
   "source": [
    "Книга рецептів. Розробити ієрархію класів, де ми зможемо зберігати рецепти з інградієнтами, інструкцією приготування, також обовязково рецепти мають бути розбить по категоріям."
   ]
  },
  {
   "cell_type": "code",
   "execution_count": 3,
   "metadata": {},
   "outputs": [
    {
     "data": {
      "text/plain": [
       "'res1'"
      ]
     },
     "execution_count": 3,
     "metadata": {},
     "output_type": "execute_result"
    }
   ],
   "source": [
    "\n",
    "class Recipe(object):\n",
    "    def __init__(self,name,ingredients,description,сategory):\n",
    "        self.name = name\n",
    "        self.ingredients = ingredients\n",
    "        self.description = description\n",
    "        self.сategory = сategory\n",
    "        \n",
    "\n",
    "\n",
    "recipe1 = Recipe('res1', {'tomato':1, 'onion':2}, 'Put all together', 'Salad')   \n",
    "recipe1.name"
   ]
  },
  {
   "cell_type": "code",
   "execution_count": null,
   "metadata": {},
   "outputs": [],
   "source": []
  },
  {
   "cell_type": "code",
   "execution_count": 4,
   "metadata": {},
   "outputs": [
    {
     "ename": "SyntaxError",
     "evalue": "invalid syntax (<ipython-input-4-5e03c0307196>, line 14)",
     "output_type": "error",
     "traceback": [
      "\u001b[0;36m  File \u001b[0;32m\"<ipython-input-4-5e03c0307196>\"\u001b[0;36m, line \u001b[0;32m14\u001b[0m\n\u001b[0;31m    class Ingredients()\u001b[0m\n\u001b[0m                       ^\u001b[0m\n\u001b[0;31mSyntaxError\u001b[0m\u001b[0;31m:\u001b[0m invalid syntax\n"
     ]
    }
   ],
   "source": [
    "class CookBook(object):\n",
    "    def __init__(self, name, recipes):\n",
    "        self.name = name\n",
    "        self.recipes = recipes\n",
    "        \n",
    "class Recipe(CookBook):\n",
    "    def __init__(self,name,ingredients,description,сategory):\n",
    "        self.name = name\n",
    "        self.ingredients = ingredients\n",
    "        self.description = description\n",
    "        self.сategory = сategory\n",
    "        \n",
    "\n",
    "class Ingredients()\n",
    "class Description()\n",
    "class Category()\n",
    "class Search()\n",
    "\n",
    "\n",
    "\n"
   ]
  },
  {
   "cell_type": "code",
   "execution_count": null,
   "metadata": {},
   "outputs": [],
   "source": []
  },
  {
   "cell_type": "code",
   "execution_count": 5,
   "metadata": {},
   "outputs": [],
   "source": [
    "class Cookbook(object):\n",
    "    def __init__(self, name, recipes):\n",
    "        self.name = name\n",
    "        self.recipes = recipes\n",
    "        \n",
    "    def print_book_name(self):\n",
    "        print(self.name)\n",
    "        \n",
    "    def print_book_recipes(self):\n",
    "        print(self.recipes)"
   ]
  },
  {
   "cell_type": "code",
   "execution_count": 6,
   "metadata": {},
   "outputs": [
    {
     "name": "stdout",
     "output_type": "stream",
     "text": [
      "Rock Recipes\n"
     ]
    }
   ],
   "source": [
    "recps = 'res1','res2'\n",
    "book1 = Cookbook('Rock Recipes', recps)\n",
    "\n",
    "book1.print_book_name()"
   ]
  },
  {
   "cell_type": "code",
   "execution_count": 7,
   "metadata": {},
   "outputs": [],
   "source": [
    "class Recipe(object):\n",
    "    def __init__(self,name,ingredients,description,time,persons,calories,category,level):\n",
    "        self.name = name\n",
    "        self.ingredients = ingredients\n",
    "        self.description = description\n",
    "        self.time = time\n",
    "        self.persons = persons\n",
    "        self.calories = calories\n",
    "        self.category = category\n",
    "        self.level = level\n",
    "        \n",
    "    def all_calories(self):\n",
    "        return self.calories*self.persons"
   ]
  },
  {
   "cell_type": "code",
   "execution_count": 8,
   "metadata": {},
   "outputs": [],
   "source": [
    "res1 = Recipe('Res1',{1,2,3}, 'Des1', 2, 4, 500, 'desert', 'easy')"
   ]
  },
  {
   "cell_type": "code",
   "execution_count": 9,
   "metadata": {},
   "outputs": [
    {
     "data": {
      "text/plain": [
       "{1, 2, 3}"
      ]
     },
     "execution_count": 9,
     "metadata": {},
     "output_type": "execute_result"
    }
   ],
   "source": [
    "res1.ingredients"
   ]
  },
  {
   "cell_type": "code",
   "execution_count": 10,
   "metadata": {},
   "outputs": [],
   "source": [
    "class Ingredient(object):\n",
    "    def __init__(self, name, price):\n",
    "        self.name = name\n",
    "        self.price = price\n",
    "        "
   ]
  },
  {
   "cell_type": "code",
   "execution_count": 11,
   "metadata": {},
   "outputs": [],
   "source": [
    "tomato = Ingredient('Tomato', 10)"
   ]
  },
  {
   "cell_type": "code",
   "execution_count": 12,
   "metadata": {},
   "outputs": [
    {
     "data": {
      "text/plain": [
       "10"
      ]
     },
     "execution_count": 12,
     "metadata": {},
     "output_type": "execute_result"
    }
   ],
   "source": [
    "res2 = Recipe('Res2',{tomato:2}, 'Des1', 2, 4, 500, 'desert', 'easy')\n",
    "in2 = res2.ingredients\n",
    "\n",
    "in2[tomato]\n",
    "key = list(in2.keys())[0]\n",
    "key.price"
   ]
  },
  {
   "cell_type": "code",
   "execution_count": null,
   "metadata": {},
   "outputs": [],
   "source": []
  },
  {
   "cell_type": "code",
   "execution_count": 13,
   "metadata": {},
   "outputs": [
    {
     "name": "stdout",
     "output_type": "stream",
     "text": [
      "2\n"
     ]
    }
   ],
   "source": [
    "def sum(a):\n",
    "    return a\n",
    "\n",
    "a={1:2}\n",
    "\n",
    "print(sum(a[1]))"
   ]
  },
  {
   "cell_type": "code",
   "execution_count": null,
   "metadata": {},
   "outputs": [],
   "source": []
  },
  {
   "cell_type": "code",
   "execution_count": 14,
   "metadata": {},
   "outputs": [
    {
     "ename": "NameError",
     "evalue": "name 'apple' is not defined",
     "output_type": "error",
     "traceback": [
      "\u001b[0;31m---------------------------------------------------------------------------\u001b[0m",
      "\u001b[0;31mNameError\u001b[0m                                 Traceback (most recent call last)",
      "\u001b[0;32m<ipython-input-14-eda6ce8a92b8>\u001b[0m in \u001b[0;36m<module>\u001b[0;34m()\u001b[0m\n\u001b[0;32m----> 1\u001b[0;31m \u001b[0ming\u001b[0m \u001b[0;34m=\u001b[0m \u001b[0;34m{\u001b[0m\u001b[0mtomato\u001b[0m\u001b[0;34m:\u001b[0m\u001b[0;36m2\u001b[0m\u001b[0;34m,\u001b[0m \u001b[0mapple\u001b[0m\u001b[0;34m:\u001b[0m\u001b[0;36m1\u001b[0m\u001b[0;34m,\u001b[0m \u001b[0monion\u001b[0m\u001b[0;34m:\u001b[0m\u001b[0;36m1\u001b[0m\u001b[0;34m}\u001b[0m\u001b[0;34m\u001b[0m\u001b[0m\n\u001b[0m\u001b[1;32m      2\u001b[0m \u001b[0;34m\u001b[0m\u001b[0m\n\u001b[1;32m      3\u001b[0m \u001b[0;34m\u001b[0m\u001b[0m\n\u001b[1;32m      4\u001b[0m \u001b[0;31m#key = list(in2.keys())[0]\u001b[0m\u001b[0;34m\u001b[0m\u001b[0;34m\u001b[0m\u001b[0m\n\u001b[1;32m      5\u001b[0m \u001b[0;31m#key.price\u001b[0m\u001b[0;34m\u001b[0m\u001b[0;34m\u001b[0m\u001b[0m\n",
      "\u001b[0;31mNameError\u001b[0m: name 'apple' is not defined"
     ]
    }
   ],
   "source": [
    "ing = {tomato:2, apple:1, onion:1}\n",
    "\n",
    "\n",
    "#key = list(in2.keys())[0]\n",
    "#key.price\n",
    "\n",
    "summ = 0\n",
    "for key in ing:\n",
    "    summ += key.price*ing[key]\n",
    "    \n",
    "print(summ)"
   ]
  },
  {
   "cell_type": "code",
   "execution_count": 230,
   "metadata": {},
   "outputs": [],
   "source": [
    "class Ingredient(object):\n",
    "    def __init__(self, name, price):\n",
    "        self.name = name\n",
    "        self.price = price\n",
    "        \n",
    "        \n",
    "class Category(object):\n",
    "    def __init__(self, name, description):\n",
    "        self.name = name\n",
    "        self.description = description\n",
    "\n",
    "\n",
    "class Level(object):\n",
    "    def __init__(self, name, description):\n",
    "        self.name = name\n",
    "        self.description = description\n",
    "\n",
    "        \n",
    "class Recipe(object):\n",
    "    def __init__(self,name,ingredients,description,time,persons,calories,category,level):\n",
    "        self.name = name\n",
    "        self.ingredients = ingredients\n",
    "        self.description = description\n",
    "        self.time = time\n",
    "        self.persons = persons\n",
    "        self.calories = calories\n",
    "        self.category = category\n",
    "        self.level = level\n",
    "        \n",
    "    def all_calories(self):\n",
    "        return self.calories*self.persons\n",
    "    \n",
    "    def dish_price(self):\n",
    "        price = 0\n",
    "        for key in self.ingredients:\n",
    "            price += key.price*self.ingredients[key]\n",
    "        return price\n",
    "    \n",
    "    def print_recipe(self):\n",
    "        print(\"This is: \", self.name)\n",
    "        print(\"You need: \")\n",
    "        for key in self.ingredients:\n",
    "            print(key.name+\":\", self.ingredients[key])\n",
    "        print(\"Here how to create it: \" + self.description)\n",
    "        print(\"Time: \", self.time)\n",
    "        print(\"Persons: \", self.persons)\n",
    "        print(\"Calories: \", self.calories)\n",
    "        print(\"Category: \", self.category.name)\n",
    "        print(\"Level: \",self.level.name)\n",
    "        \n",
    "        \n",
    "        \n",
    "    \n",
    "class CookBook(object):\n",
    "    def __init__(self,name,recipes):\n",
    "        self.name = name\n",
    "        self.recipes = recipes\n",
    "        \n",
    "    def add_recipe(self, recipe):\n",
    "        self.recipes.append(recipe)\n",
    "    \n",
    "    def print_book(self):\n",
    "        for recipe in self.recipes:\n",
    "            print(recipe.print_recipe(),'\\n')\n",
    "            \n",
    "    def search_recipe_by_atribute_value(self, value):\n",
    "        recps = []\n",
    "        for recipe in self.recipes:\n",
    "            if str(value).lower() in recipe.name.lower():\n",
    "                recps.append(recipe)\n",
    "            elif str(value).lower() in recipe.description.lower():\n",
    "                recps.append(recipe)\n",
    "            elif str(value).lower() in recipe.category.name.lower():\n",
    "                recps.append(recipe)\n",
    "            elif recipe.level == value:\n",
    "                recps.append(recipe)\n",
    "            elif recipe.time == value:\n",
    "                recps.append(recipe)\n",
    "            elif recipe.persons == value:\n",
    "                recps.append(recipe)\n",
    "            elif recipe.calories == value:\n",
    "                recps.append(recipe)\n",
    "        \n",
    "            for ingredient in recipe.ingredients.keys():\n",
    "                if ingredient.name == value and recipe not in recps:\n",
    "                    recps.append(recipe)\n",
    "            \n",
    "        return recps\n",
    "            \n"
   ]
  },
  {
   "cell_type": "code",
   "execution_count": 218,
   "metadata": {},
   "outputs": [
    {
     "data": {
      "text/plain": [
       "6"
      ]
     },
     "execution_count": 218,
     "metadata": {},
     "output_type": "execute_result"
    }
   ],
   "source": [
    "#ingredisnts\n",
    "tomato = Ingredient('Tomato', 3)\n",
    "apple = Ingredient('Apple', 2)\n",
    "onion = Ingredient('Onion', 1)\n",
    "\n",
    "#categories\n",
    "dessert = Category('Dessert', 'description1')\n",
    "soup = Category('Soup', 'description2')\n",
    "vegan = Category('Vegan', 'description3')\n",
    "\n",
    "#level\n",
    "\n",
    "easy = Level('Easy', 'description1')\n",
    "medium = Level('Medium', 'description2')\n",
    "pro = Level('Professional', 'description3')\n",
    "\n",
    "#recipes\n",
    "#def __init__(self,name,ingredients,description,time,persons,calories,category,level):\n",
    "resipe1 = Recipe('Resipe1',{tomato:1, apple:1, onion:1}, 'Des1', 2, 4, 800, dessert, pro)\n",
    "resipe2 = Recipe('Resipe2',{tomato:2, apple:2, onion:2}, 'Des1', 2, 4, 500, vegan, easy)\n",
    "\n",
    "resipe1.dish_price()"
   ]
  },
  {
   "cell_type": "code",
   "execution_count": 219,
   "metadata": {},
   "outputs": [
    {
     "name": "stdout",
     "output_type": "stream",
     "text": [
      "This is:  Resipe1\n",
      "You need: \n",
      "Tomato: 1\n",
      "Apple: 1\n",
      "Onion: 1\n",
      "Here how to create it: Des1\n",
      "Time:  2\n",
      "Persons:  4\n",
      "Calories:  800\n",
      "Category:  Dessert\n",
      "Level:  Professional\n"
     ]
    }
   ],
   "source": [
    "resipe1.print_recipe()"
   ]
  },
  {
   "cell_type": "code",
   "execution_count": 220,
   "metadata": {},
   "outputs": [
    {
     "name": "stdout",
     "output_type": "stream",
     "text": [
      "This is:  Resipe1\n",
      "You need: \n",
      "Tomato: 1\n",
      "Apple: 1\n",
      "Onion: 1\n",
      "Here how to create it: Des1\n",
      "Time:  2\n",
      "Persons:  4\n",
      "Calories:  800\n",
      "Category:  Dessert\n",
      "Level:  Professional\n",
      "None \n",
      "\n",
      "This is:  Resipe2\n",
      "You need: \n",
      "Tomato: 2\n",
      "Apple: 2\n",
      "Onion: 2\n",
      "Here how to create it: Des1\n",
      "Time:  2\n",
      "Persons:  4\n",
      "Calories:  500\n",
      "Category:  Vegan\n",
      "Level:  Easy\n",
      "None \n",
      "\n"
     ]
    }
   ],
   "source": [
    "cbook1 = CookBook('CBook1',[resipe1,resipe2])\n",
    "\n",
    "cbook1.print_book()"
   ]
  },
  {
   "cell_type": "code",
   "execution_count": 221,
   "metadata": {},
   "outputs": [
    {
     "name": "stdout",
     "output_type": "stream",
     "text": [
      "This is:  Resipe1\n",
      "You need: \n",
      "Tomato: 1\n",
      "Apple: 1\n",
      "Onion: 1\n",
      "Here how to create it: Des1\n",
      "Time:  2\n",
      "Persons:  4\n",
      "Calories:  800\n",
      "Category:  Dessert\n",
      "Level:  Professional\n",
      "None \n",
      "\n",
      "This is:  Resipe2\n",
      "You need: \n",
      "Tomato: 2\n",
      "Apple: 2\n",
      "Onion: 2\n",
      "Here how to create it: Des1\n",
      "Time:  2\n",
      "Persons:  4\n",
      "Calories:  500\n",
      "Category:  Vegan\n",
      "Level:  Easy\n",
      "None \n",
      "\n",
      "This is:  Resipe3\n",
      "You need: \n",
      "Tomato: 3\n",
      "Apple: 3\n",
      "Onion: 3\n",
      "Here how to create it: Des1\n",
      "Time:  2\n",
      "Persons:  4\n",
      "Calories:  500\n",
      "Category:  Soup\n",
      "Level:  Medium\n",
      "None \n",
      "\n"
     ]
    }
   ],
   "source": [
    "resipe3 = Recipe('Resipe3',{tomato:3, apple:3, onion:3}, 'Des1', 2, 4, 500, soup, medium)\n",
    "\n",
    "cbook1.add_recipe(resipe3)\n",
    "cbook1.print_book()"
   ]
  },
  {
   "cell_type": "code",
   "execution_count": 222,
   "metadata": {},
   "outputs": [],
   "source": [
    "class Search(object):\n",
    "    def __init__(self,):\n",
    "        pass"
   ]
  },
  {
   "cell_type": "code",
   "execution_count": 223,
   "metadata": {},
   "outputs": [
    {
     "name": "stdout",
     "output_type": "stream",
     "text": [
      "Resipe3\n"
     ]
    }
   ],
   "source": [
    "for recipe in cbook1.recipes:\n",
    "    if recipe.category.name == 'Soup':\n",
    "        print(recipe.name)\n",
    "        "
   ]
  },
  {
   "cell_type": "code",
   "execution_count": 224,
   "metadata": {},
   "outputs": [
    {
     "ename": "AttributeError",
     "evalue": "'CookBook' object has no attribute 'search_by'",
     "output_type": "error",
     "traceback": [
      "\u001b[0;31m---------------------------------------------------------------------------\u001b[0m",
      "\u001b[0;31mAttributeError\u001b[0m                            Traceback (most recent call last)",
      "\u001b[0;32m<ipython-input-224-d05d27ddf9b5>\u001b[0m in \u001b[0;36m<module>\u001b[0;34m()\u001b[0m\n\u001b[0;32m----> 1\u001b[0;31m \u001b[0mcbook1\u001b[0m\u001b[0;34m.\u001b[0m\u001b[0msearch_by\u001b[0m\u001b[0;34m(\u001b[0m\u001b[0;34m'category'\u001b[0m\u001b[0;34m,\u001b[0m \u001b[0msoup\u001b[0m\u001b[0;34m)\u001b[0m\u001b[0;34m\u001b[0m\u001b[0m\n\u001b[0m",
      "\u001b[0;31mAttributeError\u001b[0m: 'CookBook' object has no attribute 'search_by'"
     ]
    }
   ],
   "source": [
    "cbook1.search_by('category', soup)"
   ]
  },
  {
   "cell_type": "code",
   "execution_count": null,
   "metadata": {},
   "outputs": [],
   "source": []
  },
  {
   "cell_type": "code",
   "execution_count": 225,
   "metadata": {},
   "outputs": [
    {
     "data": {
      "text/plain": [
       "[]"
      ]
     },
     "execution_count": 225,
     "metadata": {},
     "output_type": "execute_result"
    }
   ],
   "source": [
    "inn = {'a':1,'b':2}\n",
    "value = 'c'\n",
    "#if key == value, for key in inn.keys():\n",
    "#    print(key)\n",
    "#   \n",
    "#    [x for x in bar if x.occupants > 1]\n",
    "    \n",
    "[key for key in inn.keys() if key == value]"
   ]
  },
  {
   "cell_type": "code",
   "execution_count": 226,
   "metadata": {},
   "outputs": [
    {
     "name": "stdout",
     "output_type": "stream",
     "text": [
      "Resipe1\n",
      "Resipe2\n",
      "Resipe3\n"
     ]
    }
   ],
   "source": [
    "search1 = cbook1.search_recipe_by_atribute_value(1)\n",
    "\n",
    "for r in search1:\n",
    "    print(r.name)"
   ]
  },
  {
   "cell_type": "code",
   "execution_count": 227,
   "metadata": {},
   "outputs": [
    {
     "name": "stdout",
     "output_type": "stream",
     "text": [
      "This is:  Resipe1\n",
      "You need: \n",
      "Tomato: 1\n",
      "Apple: 1\n",
      "Onion: 1\n",
      "Here how to create it: Des1\n",
      "Time:  2\n",
      "Persons:  4\n",
      "Calories:  800\n",
      "Category:  Dessert\n",
      "Level:  Professional\n",
      "None\n",
      "\n",
      "This is:  Resipe2\n",
      "You need: \n",
      "Tomato: 2\n",
      "Apple: 2\n",
      "Onion: 2\n",
      "Here how to create it: Des1\n",
      "Time:  2\n",
      "Persons:  4\n",
      "Calories:  500\n",
      "Category:  Vegan\n",
      "Level:  Easy\n",
      "None\n",
      "\n",
      "This is:  Resipe3\n",
      "You need: \n",
      "Tomato: 3\n",
      "Apple: 3\n",
      "Onion: 3\n",
      "Here how to create it: Des1\n",
      "Time:  2\n",
      "Persons:  4\n",
      "Calories:  500\n",
      "Category:  Soup\n",
      "Level:  Medium\n",
      "None\n",
      "\n"
     ]
    }
   ],
   "source": [
    "search2 = cbook1.search_recipe_by_atribute_value('Apple')\n",
    "\n",
    "for r in search2:\n",
    "    print(r.print_recipe())\n",
    "    print()"
   ]
  },
  {
   "cell_type": "code",
   "execution_count": 228,
   "metadata": {},
   "outputs": [
    {
     "name": "stdout",
     "output_type": "stream",
     "text": [
      "This is:  Resipe2\n",
      "You need: \n",
      "Tomato: 2\n",
      "Apple: 2\n",
      "Onion: 2\n",
      "Here how to create it: Des1\n",
      "Time:  2\n",
      "Persons:  4\n",
      "Calories:  500\n",
      "Category:  Vegan\n",
      "Level:  Easy\n",
      "None\n"
     ]
    }
   ],
   "source": [
    "search2 = cbook1.search_recipe_by_atribute_value('A')\n",
    "\n",
    "for r in search2:\n",
    "    print(r.print_recipe())"
   ]
  },
  {
   "cell_type": "code",
   "execution_count": 229,
   "metadata": {},
   "outputs": [
    {
     "name": "stdout",
     "output_type": "stream",
     "text": [
      "This is:  Resipe1\n",
      "You need: \n",
      "Tomato: 1\n",
      "Apple: 1\n",
      "Onion: 1\n",
      "Here how to create it: Des1\n",
      "Time:  2\n",
      "Persons:  4\n",
      "Calories:  800\n",
      "Category:  Dessert\n",
      "Level:  Professional\n",
      "None\n",
      "\n",
      "This is:  Resipe2\n",
      "You need: \n",
      "Tomato: 2\n",
      "Apple: 2\n",
      "Onion: 2\n",
      "Here how to create it: Des1\n",
      "Time:  2\n",
      "Persons:  4\n",
      "Calories:  500\n",
      "Category:  Vegan\n",
      "Level:  Easy\n",
      "None\n",
      "\n",
      "This is:  Resipe3\n",
      "You need: \n",
      "Tomato: 3\n",
      "Apple: 3\n",
      "Onion: 3\n",
      "Here how to create it: Des1\n",
      "Time:  2\n",
      "Persons:  4\n",
      "Calories:  500\n",
      "Category:  Soup\n",
      "Level:  Medium\n",
      "None\n",
      "\n",
      "This is:  Tomato\n",
      "You need: \n",
      "Tomato: 3\n",
      "Apple: 3\n",
      "Onion: 3\n",
      "Here how to create it: Des3\n",
      "Time:  2\n",
      "Persons:  4\n",
      "Calories:  500\n",
      "Category:  Soup\n",
      "Level:  Medium\n",
      "None\n",
      "\n"
     ]
    }
   ],
   "source": [
    "recipe4 = Recipe('Tomato',{tomato:3, apple:3, onion:3}, 'Des3', 2, 4, 500, soup, medium)\n",
    "cbook1.add_recipe(recipe4)\n",
    "\n",
    "search4 = cbook1.search_recipe_by_atribute_value('Tomato')\n",
    "\n",
    "for r in search4:\n",
    "    print(r.print_recipe())\n",
    "    print()"
   ]
  },
  {
   "cell_type": "code",
   "execution_count": null,
   "metadata": {},
   "outputs": [],
   "source": []
  },
  {
   "cell_type": "code",
   "execution_count": null,
   "metadata": {},
   "outputs": [],
   "source": []
  },
  {
   "cell_type": "code",
   "execution_count": null,
   "metadata": {},
   "outputs": [],
   "source": []
  }
 ],
 "metadata": {
  "kernelspec": {
   "display_name": "Python 3",
   "language": "python",
   "name": "python3"
  },
  "language_info": {
   "codemirror_mode": {
    "name": "ipython",
    "version": 3
   },
   "file_extension": ".py",
   "mimetype": "text/x-python",
   "name": "python",
   "nbconvert_exporter": "python",
   "pygments_lexer": "ipython3",
   "version": "3.6.5"
  }
 },
 "nbformat": 4,
 "nbformat_minor": 2
}
