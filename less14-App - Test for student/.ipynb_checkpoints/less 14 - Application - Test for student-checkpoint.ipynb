{
 "cells": [
  {
   "cell_type": "markdown",
   "metadata": {},
   "source": [
    "Створити додаток який буде зчитувати питання з варіантами відповідей з файла і опитувати студентів. Після 10ти випадково обраних питанннь, вивести результат тестування.\n",
    "\n",
    "1. Створити табличку з питаннями\n",
    "2. Виведення 10 рандомних питань для юзера\n",
    "3. Юзер вводить відповідь\n",
    "4. Перевірка відповідей\n",
    "5. Вивід результату\n"
   ]
  },
  {
   "cell_type": "code",
   "execution_count": 1,
   "metadata": {},
   "outputs": [],
   "source": [
    "import pandas as pd"
   ]
  },
  {
   "cell_type": "code",
   "execution_count": 2,
   "metadata": {},
   "outputs": [
    {
     "data": {
      "text/html": [
       "<div>\n",
       "<style scoped>\n",
       "    .dataframe tbody tr th:only-of-type {\n",
       "        vertical-align: middle;\n",
       "    }\n",
       "\n",
       "    .dataframe tbody tr th {\n",
       "        vertical-align: top;\n",
       "    }\n",
       "\n",
       "    .dataframe thead th {\n",
       "        text-align: right;\n",
       "    }\n",
       "</style>\n",
       "<table border=\"1\" class=\"dataframe\">\n",
       "  <thead>\n",
       "    <tr style=\"text-align: right;\">\n",
       "      <th></th>\n",
       "      <th>Питання</th>\n",
       "      <th>Варіант 1</th>\n",
       "      <th>Варіант 2</th>\n",
       "      <th>Варіант 3</th>\n",
       "      <th>Відповідь</th>\n",
       "    </tr>\n",
       "  </thead>\n",
       "  <tbody>\n",
       "    <tr>\n",
       "      <th>0</th>\n",
       "      <td>Питання 1</td>\n",
       "      <td>A</td>\n",
       "      <td>B</td>\n",
       "      <td>C</td>\n",
       "      <td>A</td>\n",
       "    </tr>\n",
       "    <tr>\n",
       "      <th>1</th>\n",
       "      <td>Питання 2</td>\n",
       "      <td>A</td>\n",
       "      <td>B</td>\n",
       "      <td>C</td>\n",
       "      <td>B</td>\n",
       "    </tr>\n",
       "    <tr>\n",
       "      <th>2</th>\n",
       "      <td>Питання 3</td>\n",
       "      <td>A</td>\n",
       "      <td>B</td>\n",
       "      <td>C</td>\n",
       "      <td>C</td>\n",
       "    </tr>\n",
       "    <tr>\n",
       "      <th>3</th>\n",
       "      <td>Питання 4</td>\n",
       "      <td>A</td>\n",
       "      <td>B</td>\n",
       "      <td>C</td>\n",
       "      <td>A</td>\n",
       "    </tr>\n",
       "    <tr>\n",
       "      <th>4</th>\n",
       "      <td>Питання 5</td>\n",
       "      <td>A</td>\n",
       "      <td>B</td>\n",
       "      <td>C</td>\n",
       "      <td>B</td>\n",
       "    </tr>\n",
       "  </tbody>\n",
       "</table>\n",
       "</div>"
      ],
      "text/plain": [
       "     Питання Варіант 1 Варіант 2 Варіант 3 Відповідь\n",
       "0  Питання 1         A         B         C         A\n",
       "1  Питання 2         A         B         C         B\n",
       "2  Питання 3         A         B         C         C\n",
       "3  Питання 4         A         B         C         A\n",
       "4  Питання 5         A         B         C         B"
      ]
     },
     "execution_count": 2,
     "metadata": {},
     "output_type": "execute_result"
    }
   ],
   "source": [
    "questions = pd.read_csv('Questions.csv')\n",
    "questions.head()"
   ]
  },
  {
   "cell_type": "code",
   "execution_count": 3,
   "metadata": {},
   "outputs": [
    {
     "name": "stdout",
     "output_type": "stream",
     "text": [
      "[10, 14, 37, 4, 29, 33, 27, 0, 22, 23]\n"
     ]
    }
   ],
   "source": [
    "from random import shuffle\n",
    "\n",
    "num_list = [i for i in range(40)]\n",
    "shuffle(num_list)\n",
    "num_list = num_list[0:10]\n",
    "\n",
    "print(num_list[0:10])\n"
   ]
  },
  {
   "cell_type": "code",
   "execution_count": 4,
   "metadata": {},
   "outputs": [
    {
     "name": "stdout",
     "output_type": "stream",
     "text": [
      "[['Питання 11' 'A' 'B' 'C' 'B']\n",
      " ['Питання 15' 'A' 'B' 'C' 'C']\n",
      " ['Питання 38' 'A' 'B' 'C' 'B']\n",
      " ['Питання 5' 'A' 'B' 'C' 'B']\n",
      " ['Питання 30' 'A' 'B' 'C' 'C']\n",
      " ['Питання 34' 'A' 'B' 'C' 'A']\n",
      " ['Питання 28' 'A' 'B' 'C' 'A']\n",
      " ['Питання 1' 'A' 'B' 'C' 'A']\n",
      " ['Питання 23' 'A' 'B' 'C' 'B']\n",
      " ['Питання 24' 'A' 'B' 'C' 'C']]\n"
     ]
    },
    {
     "data": {
      "text/plain": [
       "numpy.ndarray"
      ]
     },
     "execution_count": 4,
     "metadata": {},
     "output_type": "execute_result"
    }
   ],
   "source": [
    "#test = questions[['Питання', 'Варіант 1','Варіант 2', 'Варіант 3']].values[0:10]\n",
    "\n",
    "test = questions.values[num_list]\n",
    "print(test)\n",
    "type(test)"
   ]
  },
  {
   "cell_type": "code",
   "execution_count": null,
   "metadata": {},
   "outputs": [],
   "source": []
  },
  {
   "cell_type": "code",
   "execution_count": 5,
   "metadata": {},
   "outputs": [
    {
     "name": "stdout",
     "output_type": "stream",
     "text": [
      "Ваше ім'я: Liu\n",
      "Питання 11\n",
      "Варіанти відповідей: ['A' 'B' 'C']\n",
      "Ваша відповідь: A\n",
      "\n",
      "Питання 15\n",
      "Варіанти відповідей: ['A' 'B' 'C']\n",
      "Ваша відповідь: B\n",
      "\n",
      "Ви набрали 0 балів!\n"
     ]
    }
   ],
   "source": [
    "# показувати юзеру питання і записувати його відповіді\n",
    "\n",
    "user_score = 0\n",
    "user_test = []\n",
    "\n",
    "user_name = input('Ваше ім\\'я: ')\n",
    "\n",
    "for i in range(2):\n",
    "    print(str(test[i][0])+'\\nВаріанти відповідей: '+str(test[i][1:4]))\n",
    "    user_answer = input('Ваша відповідь: ')\n",
    "    print()\n",
    "    \n",
    "    user_test.append(list(test[i]))\n",
    "    user_test[i].append(user_answer)\n",
    "    \n",
    "    if user_answer == str(test[i][4]):\n",
    "        user_score += 1\n",
    "    \n",
    "print('Ви набрали '+str(user_score)+' балів!')"
   ]
  },
  {
   "cell_type": "code",
   "execution_count": 6,
   "metadata": {},
   "outputs": [],
   "source": [
    "# зберігати файл з результатами - назва файла - ім'я юзера, дата проведення тесту\n",
    "# ідея - зберігати такуж табличку, як питання, тільки з додатковим полем з відповіддю юзера\n",
    "import datetime\n",
    "date = datetime.datetime.today().strftime('%Y-%m-%d')\n",
    "\n",
    "df_user_test = pd.DataFrame(user_test)\n",
    "\n",
    "header = ['Питання', 'Варіант 1', 'Варіант 2', 'Варіант 3', 'Відповідь', 'Відповідь юзера']\n",
    "filename = user_name + '_' + date + '.csv'\n",
    "df_user_test.to_csv(filename, header=header)"
   ]
  },
  {
   "cell_type": "code",
   "execution_count": 44,
   "metadata": {},
   "outputs": [],
   "source": [
    "# вдома зробити як одна програмка, можна спробувати переробити в ооп"
   ]
  },
  {
   "cell_type": "code",
   "execution_count": 33,
   "metadata": {},
   "outputs": [],
   "source": []
  },
  {
   "cell_type": "code",
   "execution_count": null,
   "metadata": {},
   "outputs": [],
   "source": []
  },
  {
   "cell_type": "code",
   "execution_count": null,
   "metadata": {},
   "outputs": [],
   "source": []
  }
 ],
 "metadata": {
  "kernelspec": {
   "display_name": "Python 3",
   "language": "python",
   "name": "python3"
  },
  "language_info": {
   "codemirror_mode": {
    "name": "ipython",
    "version": 3
   },
   "file_extension": ".py",
   "mimetype": "text/x-python",
   "name": "python",
   "nbconvert_exporter": "python",
   "pygments_lexer": "ipython3",
   "version": "3.6.5"
  }
 },
 "nbformat": 4,
 "nbformat_minor": 2
}
