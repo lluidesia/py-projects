{
 "cells": [
  {
   "cell_type": "markdown",
   "metadata": {},
   "source": [
    "Створити додаток який буде зчитувати питання з варіантами відповідей з файла і опитувати студентів. Після 10ти випадково обраних питанннь, вивести результат тестування.\n",
    "\n",
    "1. Створити табличку з питаннями\n",
    "2. Виведення 10 рандомних питань для юзера\n",
    "3. Юзер вводить відповідь\n",
    "4. Перевірка відповідей\n",
    "5. Вивід результату\n"
   ]
  },
  {
   "cell_type": "code",
<<<<<<< HEAD
   "execution_count": 1,
   "metadata": {
    "collapsed": true
   },
=======
   "execution_count": 5,
   "metadata": {},
>>>>>>> 1ff7d61f6b61c20ffab8a71b123d5a0a08231c17
   "outputs": [],
   "source": [
    "import pandas as pd"
   ]
  },
  {
   "cell_type": "code",
   "execution_count": 6,
   "metadata": {},
   "outputs": [
    {
<<<<<<< HEAD
     "data": {
      "text/html": [
       "<div>\n",
       "<style>\n",
       "    .dataframe thead tr:only-child th {\n",
       "        text-align: right;\n",
       "    }\n",
       "\n",
       "    .dataframe thead th {\n",
       "        text-align: left;\n",
       "    }\n",
       "\n",
       "    .dataframe tbody tr th {\n",
       "        vertical-align: top;\n",
       "    }\n",
       "</style>\n",
       "<table border=\"1\" class=\"dataframe\">\n",
       "  <thead>\n",
       "    <tr style=\"text-align: right;\">\n",
       "      <th></th>\n",
       "      <th>Питання</th>\n",
       "      <th>Варіант 1</th>\n",
       "      <th>Варіант 2</th>\n",
       "      <th>Варіант 3</th>\n",
       "      <th>Відповідь</th>\n",
       "    </tr>\n",
       "  </thead>\n",
       "  <tbody>\n",
       "    <tr>\n",
       "      <th>0</th>\n",
       "      <td>Питання 1</td>\n",
       "      <td>A</td>\n",
       "      <td>B</td>\n",
       "      <td>C</td>\n",
       "      <td>A</td>\n",
       "    </tr>\n",
       "    <tr>\n",
       "      <th>1</th>\n",
       "      <td>Питання 2</td>\n",
       "      <td>A</td>\n",
       "      <td>B</td>\n",
       "      <td>C</td>\n",
       "      <td>B</td>\n",
       "    </tr>\n",
       "    <tr>\n",
       "      <th>2</th>\n",
       "      <td>Питання 3</td>\n",
       "      <td>A</td>\n",
       "      <td>B</td>\n",
       "      <td>C</td>\n",
       "      <td>C</td>\n",
       "    </tr>\n",
       "    <tr>\n",
       "      <th>3</th>\n",
       "      <td>Питання 4</td>\n",
       "      <td>A</td>\n",
       "      <td>B</td>\n",
       "      <td>C</td>\n",
       "      <td>A</td>\n",
       "    </tr>\n",
       "    <tr>\n",
       "      <th>4</th>\n",
       "      <td>Питання 5</td>\n",
       "      <td>A</td>\n",
       "      <td>B</td>\n",
       "      <td>C</td>\n",
       "      <td>B</td>\n",
       "    </tr>\n",
       "  </tbody>\n",
       "</table>\n",
       "</div>"
      ],
      "text/plain": [
       "     Питання Варіант 1 Варіант 2 Варіант 3 Відповідь\n",
       "0  Питання 1         A         B         C         A\n",
       "1  Питання 2         A         B         C         B\n",
       "2  Питання 3         A         B         C         C\n",
       "3  Питання 4         A         B         C         A\n",
       "4  Питання 5         A         B         C         B"
      ]
     },
     "execution_count": 2,
     "metadata": {},
     "output_type": "execute_result"
=======
     "name": "stdout",
     "output_type": "stream",
     "text": [
      "40\n"
     ]
>>>>>>> 1ff7d61f6b61c20ffab8a71b123d5a0a08231c17
    }
   ],
   "source": [
    "questions = pd.read_csv('Questions.csv')\n",
    "questions.head\n",
    "print(len(questions))"
   ]
  },
  {
   "cell_type": "code",
   "execution_count": 7,
   "metadata": {},
   "outputs": [
    {
     "name": "stdout",
     "output_type": "stream",
     "text": [
<<<<<<< HEAD
      "[13, 7, 39, 28, 33, 26, 1, 2, 0, 20]\n"
=======
      "[25, 8, 9, 12, 19, 5, 18, 28, 14, 16]\n"
>>>>>>> 1ff7d61f6b61c20ffab8a71b123d5a0a08231c17
     ]
    }
   ],
   "source": [
    "from random import shuffle\n",
    "\n",
    "num_list = [i for i in range(40)]\n",
    "shuffle(num_list)\n",
    "num_list = num_list[0:10]\n",
    "\n",
    "print(num_list[0:10])\n"
   ]
  },
  {
   "cell_type": "code",
   "execution_count": 8,
   "metadata": {},
   "outputs": [
    {
     "name": "stdout",
     "output_type": "stream",
     "text": [
<<<<<<< HEAD
      "[['Питання 14' 'A' 'B' 'C' 'B']\n",
      " ['Питання 8' 'A' 'B' 'C' 'B']\n",
      " ['Питання 40' 'A' 'B' 'C' 'A']\n",
      " ['Питання 29' 'A' 'B' 'C' 'B']\n",
      " ['Питання 34' 'A' 'B' 'C' 'A']\n",
      " ['Питання 27' 'A' 'B' 'C' 'C']\n",
      " ['Питання 2' 'A' 'B' 'C' 'B']\n",
      " ['Питання 3' 'A' 'B' 'C' 'C']\n",
      " ['Питання 1' 'A' 'B' 'C' 'A']\n",
      " ['Питання 21' 'A' 'B' 'C' 'C']]\n"
=======
      "[['Питання 26' 'A' 'B' 'C' 'B']\n",
      " ['Питання 9' 'A' 'B' 'C' 'C']\n",
      " ['Питання 10' 'A' 'B' 'C' 'A']\n",
      " ['Питання 13' 'A' 'B' 'C' 'A']\n",
      " ['Питання 20' 'A' 'B' 'C' 'B']\n",
      " ['Питання 6' 'A' 'B' 'C' 'C']\n",
      " ['Питання 19' 'A' 'B' 'C' 'A']\n",
      " ['Питання 29' 'A' 'B' 'C' 'B']\n",
      " ['Питання 15' 'A' 'B' 'C' 'C']\n",
      " ['Питання 17' 'A' 'B' 'C' 'B']]\n"
>>>>>>> 1ff7d61f6b61c20ffab8a71b123d5a0a08231c17
     ]
    },
    {
     "data": {
      "text/plain": [
       "numpy.ndarray"
      ]
     },
     "execution_count": 8,
     "metadata": {},
     "output_type": "execute_result"
    }
   ],
   "source": [
    "#test = questions[['Питання', 'Варіант 1','Варіант 2', 'Варіант 3']].values[0:10]\n",
    "\n",
    "test = questions.values[num_list]\n",
    "print(test)\n",
    "type(test)"
   ]
  },
  {
   "cell_type": "code",
   "execution_count": null,
   "metadata": {},
   "outputs": [],
   "source": []
  },
  {
   "cell_type": "code",
   "execution_count": 5,
   "metadata": {},
   "outputs": [
    {
     "name": "stdout",
     "output_type": "stream",
     "text": [
<<<<<<< HEAD
      "Ваше ім'я: Liudaa\n",
      "Питання 14\n",
      "Варіанти відповідей: ['A' 'B' 'C']\n",
      "Ваша відповідь: F\n",
      "\n",
      "Питання 8\n",
=======
      "Ваше ім'я: Liu\n",
      "Питання 11\n",
      "Варіанти відповідей: ['A' 'B' 'C']\n",
      "Ваша відповідь: A\n",
      "\n",
      "Питання 15\n",
>>>>>>> 1ff7d61f6b61c20ffab8a71b123d5a0a08231c17
      "Варіанти відповідей: ['A' 'B' 'C']\n",
      "Ваша відповідь: B\n",
      "\n",
      "Ви набрали 1 балів!\n"
     ]
    }
   ],
   "source": [
    "# показувати юзеру питання і записувати його відповіді\n",
    "\n",
    "user_score = 0\n",
    "user_test = []\n",
    "\n",
    "user_name = input('Ваше ім\\'я: ')\n",
    "\n",
    "for i in range(2):\n",
    "    print(str(test[i][0])+'\\nВаріанти відповідей: '+str(test[i][1:4]))\n",
    "    user_answer = input('Ваша відповідь: ')\n",
    "    print()\n",
    "    \n",
    "    user_test.append(list(test[i]))\n",
    "    user_test[i].append(user_answer)\n",
    "    \n",
    "    if user_answer == str(test[i][4]):\n",
    "        user_score += 1\n",
    "    \n",
    "print('Ви набрали '+str(user_score)+' балів!')"
   ]
  },
  {
   "cell_type": "code",
<<<<<<< HEAD
   "execution_count": 7,
   "metadata": {
    "collapsed": true
   },
=======
   "execution_count": 6,
   "metadata": {},
>>>>>>> 1ff7d61f6b61c20ffab8a71b123d5a0a08231c17
   "outputs": [],
   "source": [
    "# зберігати файл з результатами - назва файла - ім'я юзера, дата проведення тесту\n",
    "# ідея - зберігати такуж табличку, як питання, тільки з додатковим полем з відповіддю юзера\n",
    "import datetime\n",
    "date = datetime.datetime.today().strftime('%Y-%m-%d')\n",
    "\n",
    "df_user_test = pd.DataFrame(user_test)\n",
    "\n",
    "header = ['Питання', 'Варіант 1', 'Варіант 2', 'Варіант 3', 'Відповідь', 'Відповідь юзера']\n",
    "filename = user_name + '_' + date + '.csv'\n",
    "df_user_test.to_csv(filename, header=header)"
   ]
  },
  {
   "cell_type": "code",
   "execution_count": 44,
   "metadata": {
    "collapsed": true
   },
   "outputs": [],
   "source": [
    "# вдома зробити як одна програмка, можна спробувати переробити в ооп"
   ]
  },
  {
   "cell_type": "code",
   "execution_count": 33,
   "metadata": {
    "collapsed": true
   },
   "outputs": [],
   "source": []
  },
  {
   "cell_type": "code",
<<<<<<< HEAD
   "execution_count": null,
   "metadata": {
    "collapsed": true
   },
   "outputs": [],
   "source": []
=======
   "execution_count": 10,
   "metadata": {},
   "outputs": [
    {
     "name": "stdout",
     "output_type": "stream",
     "text": [
      "Ваше ім'я: k\n",
      "Питання 26\n",
      "Варіанти відповідей: ['A' 'B' 'C']\n",
      "Ваша відповідь: D\n",
      "\n",
      "Питання 9\n",
      "Варіанти відповідей: ['A' 'B' 'C']\n",
      "Ваша відповідь: d\n",
      "\n",
      "Ви набрали 0 балів!\n"
     ]
    }
   ],
   "source": [
    "# 2й варіант як показувати юзеру питання\n",
    "\n",
    "user_score = 0\n",
    "user_test = []\n",
    "\n",
    "user_name = input('Ваше ім\\'я: ')\n",
    "\n",
    "for i in range(2):\n",
    "    user_answer = input(str(test[i][0])+'\\nВаріанти відповідей: '+str(test[i][1:4])+'\\nВаша відповідь: ')\n",
    "    #user_answer = input('Ваша відповідь: ')\n",
    "    print()\n",
    "    \n",
    "    user_test.append(list(test[i]))\n",
    "    user_test[i].append(user_answer)\n",
    "    \n",
    "    if user_answer == str(test[i][4]):\n",
    "        user_score += 1\n",
    "    \n",
    "print('Ви набрали '+str(user_score)+' балів!')"
   ]
>>>>>>> 1ff7d61f6b61c20ffab8a71b123d5a0a08231c17
  },
  {
   "cell_type": "code",
   "execution_count": null,
   "metadata": {
    "collapsed": true
   },
   "outputs": [],
   "source": []
  }
 ],
 "metadata": {
  "kernelspec": {
   "display_name": "Python 3",
   "language": "python",
   "name": "python3"
  },
  "language_info": {
   "codemirror_mode": {
    "name": "ipython",
    "version": 3
   },
   "file_extension": ".py",
   "mimetype": "text/x-python",
   "name": "python",
   "nbconvert_exporter": "python",
   "pygments_lexer": "ipython3",
   "version": "3.6.3"
  }
 },
 "nbformat": 4,
 "nbformat_minor": 2
}
