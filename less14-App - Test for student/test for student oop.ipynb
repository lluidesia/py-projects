{
 "cells": [
  {
   "cell_type": "code",
   "execution_count": 24,
   "metadata": {},
   "outputs": [],
   "source": [
    "import pandas as pd\n",
    "import datetime\n",
    "from random import shuffle\n",
    "\n",
    "\n",
    "class Test(object):\n",
    "    def __init__(self, questions, n):\n",
    "        self.questions = pd.read_csv(questions)\n",
    "        self.n = n\n",
    "\n",
    "    def random_n_questions(self):\n",
    "        num_list = [i for i in range(len(self.questions))]\n",
    "        shuffle(num_list)\n",
    "        num_list = num_list[0:self.n]\n",
    "\n",
    "        return num_list\n",
    "\n",
    "    def ask_questions(self):\n",
    "        user_score = 0\n",
    "        result = ''\n",
    "        user_test = []\n",
    "\n",
    "        for i in range(self.n):\n",
    "\n",
    "            test = self.questions.values[self.random_n_questions()]\n",
    "            user_answer = input(str(test[i][0])+'\\nВаріанти відповідей: '+str(test[i][1:4])+'\\nВаша відповідь: ')\n",
    "            print()\n",
    "\n",
    "            user_test.append(list(test[i]))\n",
    "            user_test[i].append(user_answer)\n",
    "\n",
    "            if user_answer == str(test[i][4]):\n",
    "                user_score += 1\n",
    "\n",
    "        result = f'Ви набрали {user_score} з {self.n} балів!'\n",
    "        return result, user_test\n",
    "  \n",
    "    def save_user_test(self,user_name,user_test):\n",
    "        date = datetime.datetime.today().strftime('%Y-%m-%d')\n",
    "        header = ['Питання', 'Варіант 1', 'Варіант 2', 'Варіант 3', 'Відповідь', 'Відповідь юзера']\n",
    "        filename = user_name + '_' + date + '.csv'\n",
    "        df_user_test = pd.DataFrame(user_test)\n",
    "        df_user_test.to_csv(filename, header=header)\n",
    "\n",
    "    def start_test(self):\n",
    "        user_name = input('Ваше ім\\'я: ')\n",
    "        result, user_test = self.ask_questions()\n",
    "        self.save_user_test(user_name,user_test)\n",
    "        print(result)\n",
    "\n"
   ]
  },
  {
   "cell_type": "code",
   "execution_count": 25,
   "metadata": {},
   "outputs": [
    {
     "name": "stdout",
     "output_type": "stream",
     "text": [
      "Ваше ім'я: LIU2\n",
      "Питання 37\n",
      "Варіанти відповідей: ['A' 'B' 'C']\n",
      "Ваша відповідь: q1\n",
      "\n",
      "Питання 31\n",
      "Варіанти відповідей: ['A' 'B' 'C']\n",
      "Ваша відповідь: q2\n",
      "\n",
      "Питання 38\n",
      "Варіанти відповідей: ['A' 'B' 'C']\n",
      "Ваша відповідь: q3\n",
      "\n",
      "Питання 13\n",
      "Варіанти відповідей: ['A' 'B' 'C']\n",
      "Ваша відповідь: q4\n",
      "\n",
      "Ви набрали 0 з 4 балів!\n"
     ]
    }
   ],
   "source": [
    "newTest = Test('Questions.csv',4)\n",
    "newTest.start_test()"
   ]
  },
  {
   "cell_type": "code",
   "execution_count": null,
   "metadata": {},
   "outputs": [],
   "source": []
  }
 ],
 "metadata": {
  "kernelspec": {
   "display_name": "Python 3",
   "language": "python",
   "name": "python3"
  },
  "language_info": {
   "codemirror_mode": {
    "name": "ipython",
    "version": 3
   },
   "file_extension": ".py",
   "mimetype": "text/x-python",
   "name": "python",
   "nbconvert_exporter": "python",
   "pygments_lexer": "ipython3",
   "version": "3.6.5"
  }
 },
 "nbformat": 4,
 "nbformat_minor": 2
}
