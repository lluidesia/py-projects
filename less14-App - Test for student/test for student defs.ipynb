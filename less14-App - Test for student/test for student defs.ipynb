{
 "cells": [
  {
   "cell_type": "code",
   "execution_count": 2,
   "metadata": {},
   "outputs": [],
   "source": [
    "import pandas as pd\n",
    "import datetime\n",
    "from random import shuffle"
   ]
  },
  {
   "cell_type": "code",
   "execution_count": 7,
   "metadata": {
    "scrolled": true
   },
   "outputs": [
    {
     "name": "stdout",
     "output_type": "stream",
     "text": [
      "Ваше ім'я: h\n",
      "Питання 14\n",
      "Варіанти відповідей: ['A' 'B' 'C']\n",
      "Ваша відповідь: h\n",
      "\n",
      "Питання 2\n",
      "Варіанти відповідей: ['A' 'B' 'C']\n",
      "Ваша відповідь: hh\n",
      "\n",
      "Питання 33\n",
      "Варіанти відповідей: ['A' 'B' 'C']\n",
      "Ваша відповідь: hhh\n",
      "\n",
      "Ви набрали 0 з 3 балів!\n",
      "\n",
      "[['Питання 14', 'A', 'B', 'C', 'B', 'h'], ['Питання 2', 'A', 'B', 'C', 'B', 'hh'], ['Питання 33', 'A', 'B', 'C', 'C', 'hhh']]\n"
     ]
    }
   ],
   "source": [
    "questions = pd.read_csv('Questions.csv')\n",
    "#test_state = True\n",
    "\n",
    "#result = ''\n",
    "\n",
    "#user_score = 0\n",
    "user_test = []\n",
    "#user_name = input('Ваше ім\\'я: ')\n",
    "\n",
    "\n",
    "def random_n_questions(questions,n):\n",
    "    num_list = [i for i in range(len(questions))]\n",
    "    shuffle(num_list)\n",
    "    num_list = num_list[0:n]\n",
    "\n",
    "    return num_list\n",
    "\n",
    "def ask_quesions(questions, n):\n",
    "    user_score = 0\n",
    "    result = ''\n",
    "    \n",
    "    for i in range(n):\n",
    "\n",
    "        test = questions.values[random_n_questions(questions,n)]\n",
    "        user_answer = input(str(test[i][0])+'\\nВаріанти відповідей: '+str(test[i][1:4])+'\\nВаша відповідь: ')\n",
    "        print()\n",
    "\n",
    "        user_test.append(list(test[i]))\n",
    "        user_test[i].append(user_answer)\n",
    "\n",
    "        if user_answer == str(test[i][4]):\n",
    "            user_score += 1\n",
    "    \n",
    "    result = f'Ви набрали {user_score} з {n} балів!'\n",
    "    #print(result)\n",
    "    d = user_test\n",
    "    return result, d\n",
    "\n",
    "# !!!!!\n",
    "def save_user_test(user_name,user_test):\n",
    "    date = datetime.datetime.today().strftime('%Y-%m-%d')\n",
    "    header = ['Питання', 'Варіант 1', 'Варіант 2', 'Варіант 3', 'Відповідь', 'Відповідь юзера']\n",
    "    filename = user_name + '_' + date + '.csv'\n",
    "    df_user_test = pd.DataFrame(user_test)\n",
    "    df_user_test.to_csv(filename, header=header)\n",
    "\n",
    "\n",
    "def start_test(questions,n):\n",
    "    user_name = input('Ваше ім\\'я: ')\n",
    "    ress, dd = ask_quesions(questions, n)\n",
    "    #save_user_test(user_name,user_test)\n",
    "    print(ress)\n",
    "    print()\n",
    "    print(dd)\n",
    "\n",
    "    \n",
    "start_test(questions,3)    "
   ]
  },
  {
   "cell_type": "code",
   "execution_count": null,
   "metadata": {},
   "outputs": [],
   "source": []
  }
 ],
 "metadata": {
  "kernelspec": {
   "display_name": "Python 3",
   "language": "python",
   "name": "python3"
  },
  "language_info": {
   "codemirror_mode": {
    "name": "ipython",
    "version": 3
   },
   "file_extension": ".py",
   "mimetype": "text/x-python",
   "name": "python",
   "nbconvert_exporter": "python",
   "pygments_lexer": "ipython3",
   "version": "3.6.5"
  }
 },
 "nbformat": 4,
 "nbformat_minor": 2
}
